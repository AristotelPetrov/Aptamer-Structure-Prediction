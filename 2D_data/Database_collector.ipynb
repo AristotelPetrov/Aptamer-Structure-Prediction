{
 "cells": [
  {
   "cell_type": "markdown",
   "metadata": {},
   "source": [
    "<h3>Goals</h3>\n",
    "\n",
    "- obtain sequences and 2D structures of aptamers used in paper (https://www.ncbi.nlm.nih.gov/pmc/articles/PMC6975895/)\n",
    "\n",
    "- write a function that can convert aptamers 3D structure (file.pdb or PDB ID) to sequence and secondary structure"
   ]
  },
  {
   "cell_type": "code",
   "execution_count": 3,
   "metadata": {},
   "outputs": [],
   "source": [
    "import pandas as pd\n",
    "\n",
    "import time\n",
    "from selenium import webdriver\n",
    "from selenium.webdriver.common.by import By\n",
    "\n",
    "from bs4 import BeautifulSoup"
   ]
  },
  {
   "cell_type": "markdown",
   "metadata": {},
   "source": [
    "<h3>Reconstruction of dataset</h3>\n",
    "\n",
    "Reference_results.csv - table of the results of Mfold, RNAfold and CentroidFold on dataset of 69 DNA aptamers provided in paper https://www.ncbi.nlm.nih.gov/pmc/articles/PMC6975895/"
   ]
  },
  {
   "cell_type": "code",
   "execution_count": 2,
   "metadata": {},
   "outputs": [
    {
     "data": {
      "text/plain": [
       "['1JVE', '1NGU', '2OEY', '2VWJ', '3THW']"
      ]
     },
     "execution_count": 2,
     "metadata": {},
     "output_type": "execute_result"
    }
   ],
   "source": [
    "#PDB IDs of sequences\n",
    "ref_table = pd.read_csv('Reference_results.csv')\n",
    "pdb_ids = list(ref_table['PDB_ID'])\n",
    "pdb_ids[:5]"
   ]
  },
  {
   "cell_type": "markdown",
   "metadata": {},
   "source": [
    "<h3>Converting function </h3>"
   ]
  },
  {
   "cell_type": "code",
   "execution_count": 140,
   "metadata": {},
   "outputs": [],
   "source": [
    "#PDB ID to sequence and secondary structure using 3DNA DSSR via RNApdbee web-server\n",
    "def pdbid_2_2d(pdbid): #-->[pdbid, sequence, 2D]\n",
    "\n",
    "    driver = webdriver.Chrome()\n",
    "    #driver.implicitly_wait(30)\n",
    "    \n",
    "    # Open web-server\n",
    "    driver.get('http://rnapdbee.cs.put.poznan.pl/')  # Replace with your target URL\n",
    "\n",
    "    # type pdbid \n",
    "    input_pdb = driver.find_element(By.ID, \"pdbId\")\n",
    "    input_pdb.send_keys(pdbid)\n",
    "\n",
    "    #click Get button\n",
    "    getbutton = driver.find_element(By.XPATH, \"//input[@type='button' and @value='Get' and @onclick='fetchPdb()']\")\n",
    "    getbutton.click()\n",
    "\n",
    "    # Wait for 2 minutes (120 seconds)\n",
    "    time.sleep(10)\n",
    "\n",
    "    #select non-canonical inclusion\n",
    "    noncancheck = driver.find_element(By.ID, \"nonCanonicalHandling2\")\n",
    "    noncancheck.click()\n",
    "\n",
    "    #click Run button\n",
    "    runbutton = driver.find_element(By.ID, 'commitPdb')\n",
    "    runbutton.click()\n",
    "\n",
    "    # Wait for the page to load \n",
    "    time.sleep(10)\n",
    "\n",
    "    # Get the resulting HTML\n",
    "    result_html = driver.page_source\n",
    "    driver.quit()\n",
    "\n",
    "    soup = BeautifulSoup(result_html, \"html.parser\")\n",
    "    raw_symbols = soup.findAll('span', class_='mono')\n",
    "    syms = []\n",
    "    for s in raw_symbols:\n",
    "        syms.append(s.get_text())\n",
    "\n",
    "    sequence = ''\n",
    "    secondary = ''\n",
    "    for ss in syms:\n",
    "        if ss in ('a', 't', 'g', 'c', 'u'):\n",
    "            sequence = sequence+ss\n",
    "        elif ss in ('(', ')', '.', '[', ']'):\n",
    "            secondary = secondary+ss\n",
    "\n",
    "    return [pdbid, sequence, secondary]\n",
    "\n",
    "\n",
    "\n",
    "\n"
   ]
  },
  {
   "cell_type": "markdown",
   "metadata": {},
   "source": [
    "Debugging the function"
   ]
  },
  {
   "cell_type": "code",
   "execution_count": 32,
   "metadata": {},
   "outputs": [
    {
     "name": "stdout",
     "output_type": "stream",
     "text": [
      "1JVE\n",
      "cctaattataacgaagttataattagg\n",
      "(((((((((((((.)))))))))))))\n"
     ]
    }
   ],
   "source": [
    "print(*pdbid_2_2d('1JVE'), sep='\\n')"
   ]
  },
  {
   "cell_type": "code",
   "execution_count": 14,
   "metadata": {},
   "outputs": [
    {
     "name": "stdout",
     "output_type": "stream",
     "text": [
      "2MS9\n",
      "tggtggtggtggttgtggtggtggtgtt\n",
      "(([.)])([.)]..(.[).](.[).]..\n"
     ]
    }
   ],
   "source": [
    "print(*pdbid_2_2d('2MS9'), sep='\\n')"
   ]
  },
  {
   "cell_type": "code",
   "execution_count": 16,
   "metadata": {},
   "outputs": [
    {
     "name": "stdout",
     "output_type": "stream",
     "text": [
      "(((((((((((..)))(((..)))((((..))))))))))))\n",
      "2F1Q\n",
      "gcactgcatccttggacgcttgcgccacttgtggtgcagtgc\n",
      "(((((((((((..)))(((..)))((((..))))))))))))\n"
     ]
    }
   ],
   "source": [
    "#settings verification\n",
    "print('(((((((((((..)))(((..)))((((..))))))))))))')\n",
    "print(*pdbid_2_2d('2F1Q'), sep='\\n')\n"
   ]
  },
  {
   "cell_type": "code",
   "execution_count": 33,
   "metadata": {},
   "outputs": [
    {
     "name": "stdout",
     "output_type": "stream",
     "text": [
      "['1JVE', 'cctaattataacgaagttataattagg', '(((((((((((((.)))))))))))))']\n",
      "['1NGU', 'ctctccttgtatttcttacaaaaagag', '(((((((((((.....)))))))))))']\n",
      "['2OEY', 'ccatcgtctacctttggtaggatgg', '(((((..(((((...))))))))))']\n",
      "['2VWJ', 'aauggagacacggcttttgccgtgtc', '......((((((((....))))))))']\n"
     ]
    }
   ],
   "source": [
    "aptamer_base = []\n",
    "for apt in pdb_ids[:4]:\n",
    "    rs = pdbid_2_2d(apt)\n",
    "    print(rs)\n",
    "    aptamer_base.append(rs)\n",
    "\n"
   ]
  },
  {
   "cell_type": "code",
   "execution_count": 34,
   "metadata": {},
   "outputs": [
    {
     "data": {
      "text/plain": [
       "[['1JVE', 'cctaattataacgaagttataattagg', '(((((((((((((.)))))))))))))'],\n",
       " ['1NGU', 'ctctccttgtatttcttacaaaaagag', '(((((((((((.....)))))))))))'],\n",
       " ['2OEY', 'ccatcgtctacctttggtaggatgg', '(((((..(((((...))))))))))'],\n",
       " ['2VWJ', 'aauggagacacggcttttgccgtgtc', '......((((((((....))))))))']]"
      ]
     },
     "execution_count": 34,
     "metadata": {},
     "output_type": "execute_result"
    }
   ],
   "source": [
    "aptamer_base"
   ]
  },
  {
   "cell_type": "markdown",
   "metadata": {},
   "source": [
    "Database Collecting"
   ]
  },
  {
   "cell_type": "code",
   "execution_count": 147,
   "metadata": {},
   "outputs": [
    {
     "name": "stdout",
     "output_type": "stream",
     "text": [
      "1--2--3--4--5--6--7--8--9--10--11--12--13--14--15--16--17--18--19--20--21--22--23--24--25--26--27--28--29--30--31--32--33--34--35--36--37--38--39--40--41--42--43--44--45--46--47--48--49--50--51--52--53--54--55--56--57--58--59--60--61--62--63--64--65--66--67--"
     ]
    },
    {
     "name": "stderr",
     "output_type": "stream",
     "text": [
      "There was an error managing chromedriver (error sending request for url (https://googlechromelabs.github.io/chrome-for-testing/known-good-versions-with-downloads.json)); using driver found in the cache\n",
      "Error sending stats to Plausible: error sending request for url (https://plausible.io/api/event)\n"
     ]
    },
    {
     "name": "stdout",
     "output_type": "stream",
     "text": [
      "68--"
     ]
    },
    {
     "name": "stderr",
     "output_type": "stream",
     "text": [
      "There was an error managing chromedriver (error sending request for url (https://googlechromelabs.github.io/chrome-for-testing/known-good-versions-with-downloads.json)); using driver found in the cache\n"
     ]
    },
    {
     "name": "stdout",
     "output_type": "stream",
     "text": [
      "69--"
     ]
    }
   ],
   "source": [
    "fullaptabase = []\n",
    "for p in pdb_ids:\n",
    "    fullaptabase.append(pdbid_2_2d(p))\n",
    "    print(len(fullaptabase), end='--')"
   ]
  },
  {
   "cell_type": "code",
   "execution_count": null,
   "metadata": {},
   "outputs": [],
   "source": [
    "fullaptabase"
   ]
  },
  {
   "cell_type": "code",
   "execution_count": 150,
   "metadata": {},
   "outputs": [
    {
     "data": {
      "text/html": [
       "<div>\n",
       "<style scoped>\n",
       "    .dataframe tbody tr th:only-of-type {\n",
       "        vertical-align: middle;\n",
       "    }\n",
       "\n",
       "    .dataframe tbody tr th {\n",
       "        vertical-align: top;\n",
       "    }\n",
       "\n",
       "    .dataframe thead th {\n",
       "        text-align: right;\n",
       "    }\n",
       "</style>\n",
       "<table border=\"1\" class=\"dataframe\">\n",
       "  <thead>\n",
       "    <tr style=\"text-align: right;\">\n",
       "      <th></th>\n",
       "      <th>CentroidFold</th>\n",
       "      <th>RNAfold</th>\n",
       "      <th>Mfold</th>\n",
       "      <th>PDB_ID</th>\n",
       "      <th>Structure</th>\n",
       "      <th>Len</th>\n",
       "    </tr>\n",
       "  </thead>\n",
       "  <tbody>\n",
       "    <tr>\n",
       "      <th>0</th>\n",
       "      <td>1.0</td>\n",
       "      <td>1.0</td>\n",
       "      <td>1.0</td>\n",
       "      <td>1JVE</td>\n",
       "      <td>Triplex-DNA</td>\n",
       "      <td>27</td>\n",
       "    </tr>\n",
       "    <tr>\n",
       "      <th>1</th>\n",
       "      <td>1.0</td>\n",
       "      <td>1.0</td>\n",
       "      <td>1.0</td>\n",
       "      <td>1NGU</td>\n",
       "      <td>Hairpin with pseudoknots</td>\n",
       "      <td>27</td>\n",
       "    </tr>\n",
       "    <tr>\n",
       "      <th>2</th>\n",
       "      <td>1.0</td>\n",
       "      <td>1.0</td>\n",
       "      <td>1.0</td>\n",
       "      <td>2OEY</td>\n",
       "      <td>Hairpin with loops</td>\n",
       "      <td>25</td>\n",
       "    </tr>\n",
       "    <tr>\n",
       "      <th>3</th>\n",
       "      <td>1.0</td>\n",
       "      <td>1.0</td>\n",
       "      <td>1.0</td>\n",
       "      <td>2VWJ</td>\n",
       "      <td>Hairpin with dangling ends</td>\n",
       "      <td>26</td>\n",
       "    </tr>\n",
       "    <tr>\n",
       "      <th>4</th>\n",
       "      <td>1.0</td>\n",
       "      <td>1.0</td>\n",
       "      <td>1.0</td>\n",
       "      <td>3THW</td>\n",
       "      <td>Hairpin with loops</td>\n",
       "      <td>53</td>\n",
       "    </tr>\n",
       "  </tbody>\n",
       "</table>\n",
       "</div>"
      ],
      "text/plain": [
       "   CentroidFold  RNAfold  Mfold PDB_ID                   Structure  Len\n",
       "0           1.0      1.0    1.0   1JVE                 Triplex-DNA   27\n",
       "1           1.0      1.0    1.0   1NGU    Hairpin with pseudoknots   27\n",
       "2           1.0      1.0    1.0   2OEY          Hairpin with loops   25\n",
       "3           1.0      1.0    1.0   2VWJ  Hairpin with dangling ends   26\n",
       "4           1.0      1.0    1.0   3THW          Hairpin with loops   53"
      ]
     },
     "execution_count": 150,
     "metadata": {},
     "output_type": "execute_result"
    }
   ],
   "source": [
    "reftab = pd.read_csv('Reference_results.csv')\n",
    "reftab.head()"
   ]
  },
  {
   "cell_type": "code",
   "execution_count": 159,
   "metadata": {},
   "outputs": [
    {
     "data": {
      "text/html": [
       "<div>\n",
       "<style scoped>\n",
       "    .dataframe tbody tr th:only-of-type {\n",
       "        vertical-align: middle;\n",
       "    }\n",
       "\n",
       "    .dataframe tbody tr th {\n",
       "        vertical-align: top;\n",
       "    }\n",
       "\n",
       "    .dataframe thead th {\n",
       "        text-align: right;\n",
       "    }\n",
       "</style>\n",
       "<table border=\"1\" class=\"dataframe\">\n",
       "  <thead>\n",
       "    <tr style=\"text-align: right;\">\n",
       "      <th></th>\n",
       "      <th>PDB_ID</th>\n",
       "      <th>Sequence</th>\n",
       "      <th>2D</th>\n",
       "    </tr>\n",
       "  </thead>\n",
       "  <tbody>\n",
       "    <tr>\n",
       "      <th>0</th>\n",
       "      <td>1JVE</td>\n",
       "      <td>cctaattataacgaagttataattagg</td>\n",
       "      <td>(((((((((((((.)))))))))))))</td>\n",
       "    </tr>\n",
       "    <tr>\n",
       "      <th>1</th>\n",
       "      <td>1NGU</td>\n",
       "      <td>ctctccttgtatttcttacaaaaagag</td>\n",
       "      <td>(((((((((((.....)))))))))))</td>\n",
       "    </tr>\n",
       "    <tr>\n",
       "      <th>2</th>\n",
       "      <td>2OEY</td>\n",
       "      <td>ccatcgtctacctttggtaggatgg</td>\n",
       "      <td>(((((..(((((...))))))))))</td>\n",
       "    </tr>\n",
       "    <tr>\n",
       "      <th>3</th>\n",
       "      <td>2VWJ</td>\n",
       "      <td>aauggagacacggcttttgccgtgtc</td>\n",
       "      <td>......((((((((....))))))))</td>\n",
       "    </tr>\n",
       "    <tr>\n",
       "      <th>4</th>\n",
       "      <td>3THW</td>\n",
       "      <td>cctctatctgaagccgatcgatgaagcatcgatcgcacagcttcag...</td>\n",
       "      <td>((((((((((((((((((((((((.))))))))))....)))))))...</td>\n",
       "    </tr>\n",
       "  </tbody>\n",
       "</table>\n",
       "</div>"
      ],
      "text/plain": [
       "  PDB_ID                                           Sequence  \\\n",
       "0   1JVE                        cctaattataacgaagttataattagg   \n",
       "1   1NGU                        ctctccttgtatttcttacaaaaagag   \n",
       "2   2OEY                          ccatcgtctacctttggtaggatgg   \n",
       "3   2VWJ                         aauggagacacggcttttgccgtgtc   \n",
       "4   3THW  cctctatctgaagccgatcgatgaagcatcgatcgcacagcttcag...   \n",
       "\n",
       "                                                  2D  \n",
       "0                        (((((((((((((.)))))))))))))  \n",
       "1                        (((((((((((.....)))))))))))  \n",
       "2                          (((((..(((((...))))))))))  \n",
       "3                         ......((((((((....))))))))  \n",
       "4  ((((((((((((((((((((((((.))))))))))....)))))))...  "
      ]
     },
     "execution_count": 159,
     "metadata": {},
     "output_type": "execute_result"
    }
   ],
   "source": [
    "cols = ['PDB_ID', 'Sequence', '2D']\n",
    "aptabase = pd.DataFrame(fullaptabase, columns=cols)\n",
    "aptabase.head()"
   ]
  },
  {
   "cell_type": "code",
   "execution_count": 160,
   "metadata": {},
   "outputs": [
    {
     "data": {
      "text/html": [
       "<div>\n",
       "<style scoped>\n",
       "    .dataframe tbody tr th:only-of-type {\n",
       "        vertical-align: middle;\n",
       "    }\n",
       "\n",
       "    .dataframe tbody tr th {\n",
       "        vertical-align: top;\n",
       "    }\n",
       "\n",
       "    .dataframe thead th {\n",
       "        text-align: right;\n",
       "    }\n",
       "</style>\n",
       "<table border=\"1\" class=\"dataframe\">\n",
       "  <thead>\n",
       "    <tr style=\"text-align: right;\">\n",
       "      <th></th>\n",
       "      <th>PDB_ID</th>\n",
       "      <th>Sequence</th>\n",
       "      <th>2D</th>\n",
       "      <th>Len</th>\n",
       "      <th>Structure</th>\n",
       "      <th>RNAfold_ref</th>\n",
       "    </tr>\n",
       "  </thead>\n",
       "  <tbody>\n",
       "    <tr>\n",
       "      <th>0</th>\n",
       "      <td>1JVE</td>\n",
       "      <td>cctaattataacgaagttataattagg</td>\n",
       "      <td>(((((((((((((.)))))))))))))</td>\n",
       "      <td>27</td>\n",
       "      <td>Triplex-DNA</td>\n",
       "      <td>1.0</td>\n",
       "    </tr>\n",
       "    <tr>\n",
       "      <th>1</th>\n",
       "      <td>1NGU</td>\n",
       "      <td>ctctccttgtatttcttacaaaaagag</td>\n",
       "      <td>(((((((((((.....)))))))))))</td>\n",
       "      <td>27</td>\n",
       "      <td>Hairpin with pseudoknots</td>\n",
       "      <td>1.0</td>\n",
       "    </tr>\n",
       "    <tr>\n",
       "      <th>2</th>\n",
       "      <td>2OEY</td>\n",
       "      <td>ccatcgtctacctttggtaggatgg</td>\n",
       "      <td>(((((..(((((...))))))))))</td>\n",
       "      <td>25</td>\n",
       "      <td>Hairpin with loops</td>\n",
       "      <td>1.0</td>\n",
       "    </tr>\n",
       "    <tr>\n",
       "      <th>3</th>\n",
       "      <td>2VWJ</td>\n",
       "      <td>aauggagacacggcttttgccgtgtc</td>\n",
       "      <td>......((((((((....))))))))</td>\n",
       "      <td>26</td>\n",
       "      <td>Hairpin with dangling ends</td>\n",
       "      <td>1.0</td>\n",
       "    </tr>\n",
       "    <tr>\n",
       "      <th>4</th>\n",
       "      <td>3THW</td>\n",
       "      <td>cctctatctgaagccgatcgatgaagcatcgatcgcacagcttcag...</td>\n",
       "      <td>((((((((((((((((((((((((.))))))))))....)))))))...</td>\n",
       "      <td>53</td>\n",
       "      <td>Hairpin with loops</td>\n",
       "      <td>1.0</td>\n",
       "    </tr>\n",
       "  </tbody>\n",
       "</table>\n",
       "</div>"
      ],
      "text/plain": [
       "  PDB_ID                                           Sequence  \\\n",
       "0   1JVE                        cctaattataacgaagttataattagg   \n",
       "1   1NGU                        ctctccttgtatttcttacaaaaagag   \n",
       "2   2OEY                          ccatcgtctacctttggtaggatgg   \n",
       "3   2VWJ                         aauggagacacggcttttgccgtgtc   \n",
       "4   3THW  cctctatctgaagccgatcgatgaagcatcgatcgcacagcttcag...   \n",
       "\n",
       "                                                  2D  Len  \\\n",
       "0                        (((((((((((((.)))))))))))))   27   \n",
       "1                        (((((((((((.....)))))))))))   27   \n",
       "2                          (((((..(((((...))))))))))   25   \n",
       "3                         ......((((((((....))))))))   26   \n",
       "4  ((((((((((((((((((((((((.))))))))))....)))))))...   53   \n",
       "\n",
       "                    Structure  RNAfold_ref  \n",
       "0                 Triplex-DNA          1.0  \n",
       "1    Hairpin with pseudoknots          1.0  \n",
       "2          Hairpin with loops          1.0  \n",
       "3  Hairpin with dangling ends          1.0  \n",
       "4          Hairpin with loops          1.0  "
      ]
     },
     "execution_count": 160,
     "metadata": {},
     "output_type": "execute_result"
    }
   ],
   "source": [
    "aptabase['Len'] = reftab['Len']\n",
    "aptabase['Structure'] = reftab['Structure']\n",
    "aptabase['RNAfold_ref'] = reftab['RNAfold']\n",
    "aptabase.head()"
   ]
  },
  {
   "cell_type": "code",
   "execution_count": 161,
   "metadata": {},
   "outputs": [],
   "source": [
    "aptabase.to_csv('Aptamers_2D.csv', index=False)"
   ]
  }
 ],
 "metadata": {
  "kernelspec": {
   "display_name": "aptabench_1",
   "language": "python",
   "name": "python3"
  },
  "language_info": {
   "codemirror_mode": {
    "name": "ipython",
    "version": 3
   },
   "file_extension": ".py",
   "mimetype": "text/x-python",
   "name": "python",
   "nbconvert_exporter": "python",
   "pygments_lexer": "ipython3",
   "version": "3.12.5"
  }
 },
 "nbformat": 4,
 "nbformat_minor": 2
}
