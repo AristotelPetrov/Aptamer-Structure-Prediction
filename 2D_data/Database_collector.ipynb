{
 "cells": [
  {
   "cell_type": "markdown",
   "metadata": {},
   "source": [
    "<h3>Goals</h3>\n",
    "\n",
    "- obtain sequences and 2D structures of aptamers used in paper (https://www.ncbi.nlm.nih.gov/pmc/articles/PMC6975895/)\n",
    "\n",
    "- write a function that can convert aptamers 3D structure (file.pdb or PDB ID) to sequence and secondary structure"
   ]
  },
  {
   "cell_type": "code",
   "execution_count": 29,
   "metadata": {},
   "outputs": [],
   "source": [
    "import pandas as pd\n",
    "\n",
    "import time\n",
    "from selenium import webdriver\n",
    "from selenium.webdriver.common.by import By\n",
    "\n",
    "from bs4 import BeautifulSoup"
   ]
  },
  {
   "cell_type": "markdown",
   "metadata": {},
   "source": [
    "<h3>Reconstruction of dataset</h3>\n",
    "\n",
    "Reference_results.csv - table of the results of Mfold, RNAfold and CentroidFold on dataset of 69 DNA aptamers provided in paper https://www.ncbi.nlm.nih.gov/pmc/articles/PMC6975895/"
   ]
  },
  {
   "cell_type": "code",
   "execution_count": 30,
   "metadata": {},
   "outputs": [
    {
     "data": {
      "text/plain": [
       "['1JVE', '1NGU', '2OEY', '2VWJ', '3THW']"
      ]
     },
     "execution_count": 30,
     "metadata": {},
     "output_type": "execute_result"
    }
   ],
   "source": [
    "#PDB IDs of sequences\n",
    "ref_table = pd.read_csv('Reference_results.csv')\n",
    "pdb_ids = list(ref_table['PDB_ID'])\n",
    "pdb_ids[:5]"
   ]
  },
  {
   "cell_type": "markdown",
   "metadata": {},
   "source": [
    "<h3>Converting function </h3>"
   ]
  },
  {
   "cell_type": "code",
   "execution_count": 34,
   "metadata": {},
   "outputs": [],
   "source": [
    "#PDB ID to sequence and secondary structure using 3DNA DSSR via RNApdbee web-server\n",
    "def pdbid_2_2d(pdbid): #-->[pdbid, sequence, 2D]\n",
    "\n",
    "    driver = webdriver.Chrome()\n",
    "    #driver.implicitly_wait(30)\n",
    "    \n",
    "    # Open web-server\n",
    "    driver.get('http://rnapdbee.cs.put.poznan.pl/')  # Replace with your target URL\n",
    "\n",
    "    # type pdbid \n",
    "    input_pdb = driver.find_element(By.ID, \"pdbId\")\n",
    "    input_pdb.send_keys(pdbid)\n",
    "\n",
    "    #click Get button\n",
    "    getbutton = driver.find_element(By.XPATH, \"//input[@type='button' and @value='Get' and @onclick='fetchPdb()']\")\n",
    "    getbutton.click()\n",
    "\n",
    "    # Wait for 2 minutes (120 seconds)\n",
    "    time.sleep(10)\n",
    "\n",
    "    #select non-canonical inclusion\n",
    "    noncancheck = driver.find_element(By.ID, \"nonCanonicalHandling2\")\n",
    "    noncancheck.click()\n",
    "\n",
    "    #click Run button\n",
    "    runbutton = driver.find_element(By.ID, 'commitPdb')\n",
    "    runbutton.click()\n",
    "\n",
    "    # Wait for the page to load \n",
    "    time.sleep(5)\n",
    "\n",
    "    # Get the resulting HTML\n",
    "    result_html = driver.page_source\n",
    "    driver.quit()\n",
    "\n",
    "    soup = BeautifulSoup(result_html, \"html.parser\")\n",
    "    raw_symbols = soup.findAll('span', class_='mono')\n",
    "    syms = []\n",
    "    for s in raw_symbols:\n",
    "        syms.append(s.get_text())\n",
    "\n",
    "    sequence = ''\n",
    "    secondary = ''\n",
    "    for ss in syms:\n",
    "        if ss in ('a', 't', 'g', 'c', 'u'):\n",
    "            sequence = sequence+ss\n",
    "        elif ss in ('(', ')', '.', '[', ']', '{', '}'):\n",
    "            secondary = secondary+ss\n",
    "\n",
    "    return [pdbid, sequence, secondary]\n",
    "\n",
    "\n",
    "\n",
    "\n"
   ]
  },
  {
   "cell_type": "code",
   "execution_count": 32,
   "metadata": {},
   "outputs": [
    {
     "name": "stdout",
     "output_type": "stream",
     "text": [
      "(((((((((((..)))(((..)))((((..))))))))))))\n",
      "2F1Q\n",
      "gcactgcatccttggacgcttgcgccacttgtggtgcagtgc\n",
      "(((((((((((..)))(((..)))((((..))))))))))))\n"
     ]
    }
   ],
   "source": [
    "#settings verification\n",
    "print('(((((((((((..)))(((..)))((((..))))))))))))')\n",
    "print(*pdbid_2_2d('2F1Q'), sep='\\n')\n"
   ]
  },
  {
   "cell_type": "markdown",
   "metadata": {},
   "source": [
    "Database Collecting"
   ]
  },
  {
   "cell_type": "code",
   "execution_count": 35,
   "metadata": {},
   "outputs": [
    {
     "name": "stdout",
     "output_type": "stream",
     "text": [
      "1--2--3--4--5--6--7--8--9--10--11--12--13--14--15--16--17--18--19--20--21--22--23--24--25--26--27--28--29--30--31--32--33--34--35--36--37--38--39--40--41--42--43--44--45--46--47--48--49--50--51--52--53--54--55--56--57--58--59--60--61--62--63--64--65--66--67--68--69--"
     ]
    }
   ],
   "source": [
    "fullaptabase = []\n",
    "for p in pdb_ids:\n",
    "    fullaptabase.append(pdbid_2_2d(p))\n",
    "    print(len(fullaptabase), end='--')"
   ]
  },
  {
   "cell_type": "code",
   "execution_count": 38,
   "metadata": {},
   "outputs": [
    {
     "data": {
      "text/plain": [
       "[['1JVE', 'cctaattataacgaagttataattagg', '(((((((((((((.)))))))))))))'],\n",
       " ['1NGU', 'ctctccttgtatttcttacaaaaagag', '(((((((((((.....)))))))))))'],\n",
       " ['2OEY', 'ccatcgtctacctttggtaggatgg', '(((((..(((((...))))))))))'],\n",
       " ['2VWJ', 'aauggagacacggcttttgccgtgtc', '......((((((((....))))))))'],\n",
       " ['3THW',\n",
       "  'cctctatctgaagccgatcgatgaagcatcgatcgcacagcttcagatagagga',\n",
       "  '((((((((((((((((((((((((.))))))))))....)))))))))))))).'],\n",
       " ['4HT4', 'cgcgaacggaacgttcgcataagtgcgc', '.((((((((.))))))))........()'],\n",
       " ['1NGO', 'ctctttttgtaagaaatacaaggagag', '(((((((((((.....)))))))))))'],\n",
       " ['5N2Q', 'actttatgaaaataaagtatagtgtg', '(((((((....)))))))........'],\n",
       " ['3H25', 'cctttccccctacccgaagggtggggg', '......(((((((((...)))))))))'],\n",
       " ['1AW4',\n",
       "  'acctgggggagtattgcggaggaaggtaaacctgggggagtattgcggaggaaggtaa',\n",
       "  '(((((()([(((...))))..{)))))]}(((((()([(((...))))..{)))))]}'],\n",
       " ['6CCE',\n",
       "  'gcttgacaaaagtgttaaattgtgctatactagcacaatttaacacttttgtcaagc',\n",
       "  '((((((((((((((((((((((((((.....))))))))))))))))))))))))))'],\n",
       " ['1B4Y', 'tcttccttttccttctcccgagaaggtttt', '.....(....(((((((..))))))))...'],\n",
       " ['2N8A',\n",
       "  'gctggcttcgtaagaagccagctcgcggtcagcttgctgaccgcg',\n",
       "  '((((((((((..)))))))))).((((((((((..))))))))))'],\n",
       " ['3HXQ',\n",
       "  'ggcgtgcagtgccttcggccgtgcggtgcctccgtcacgcc',\n",
       "  '((((((.((.(((...))))).((((.(.).))))))))))'],\n",
       " ['5HRT',\n",
       "  'cctggacggaaccagaatacttttggtctccagg',\n",
       "  '((((((((.)(((((((...))))))))))))))'],\n",
       " ['1GN7',\n",
       "  'agagagaaccccttctctcttatatctgtctt',\n",
       "  '((((((((....))))))))............'],\n",
       " ['1WAN',\n",
       "  'agatagaaccccttctatcttatatctutctt',\n",
       "  '((((((((....))))))))............'],\n",
       " ['2ARG', 'tgaccagggcaaacggtaggtgagtggtca', '(((((((([[).((]....))].)))))))'],\n",
       " ['4F41',\n",
       "  'cataataacaatatcttgatattgttattatg',\n",
       "  '(((((((((((((((..)))))))))))))))'],\n",
       " ['4F43',\n",
       "  'cataataacaatatcaagatattgttattatg',\n",
       "  '(((((((((((((((..)))))))))))))))'],\n",
       " ['4TMU', 'gtagaattgaaattctaccggtgccttac', '((((((((()))))))))...........'],\n",
       " ['4ER8',\n",
       "  'gtaggacggataaggcgtttacgccgcatccg',\n",
       "  '......((((((((((((..))))))))))))'],\n",
       " ['5HRU',\n",
       "  'tcgattggattgtgccggaagtgctggctcga',\n",
       "  '((((....([[.)(((((]](.))))))))))'],\n",
       " ['134D', 'tcctcctttaggaggatttggtggt', '(((((((())))))))().......'],\n",
       " ['135D', 'tcctcctttaggaggatttggtggt', '(((((((())))))))().......'],\n",
       " ['136D', 'tcctcctttaggaggatttggtggt', '(((((((())))))))().......'],\n",
       " ['5D2Q',\n",
       "  'gatgaatctatgtaaatactagtatttacatagattcatc',\n",
       "  '(((((((((((((((((((())))))))))))))))))))'],\n",
       " ['4CEI',\n",
       "  'ctaatgcgagcactagtgctcgcattagattttgtttaa',\n",
       "  '(((((((((((((())))))))))))))...........'],\n",
       " ['4CEH',\n",
       "  'tctaatgcgagcacgtgctcgcattagattttgtttt',\n",
       "  '(((((((((((((()))))))))))))).........'],\n",
       " ['5LD2',\n",
       "  'tttttttttttttctaatgcgagcactgctagcagtgctcgcattagattta',\n",
       "  '............(((((((((((((((((())))))))))))))))))....'],\n",
       " ['3U44',\n",
       "  'tctaatgcgagcactgcagtgctcgcattagatttt',\n",
       "  '(((((((((((((((())))))))))))))))....'],\n",
       " ['1SNJ',\n",
       "  'cgtgcagcggcttgccggcacttgtgcttctgcacg',\n",
       "  '(((((((((((..))))((((..))))..)))))))'],\n",
       " ['1EZN',\n",
       "  'cgtgcacccgcttgcggcgacttgtcgttgtgcacg',\n",
       "  '(((((((((((..))))((((..))))..)))))))'],\n",
       " ['3U4Q', 'taatgcgagcgctcgcattagattttg', '(((((((((()))))))))).......'],\n",
       " ['2F1Q',\n",
       "  'gcactgcatccttggacgcttgcgccacttgtggtgcagtgc',\n",
       "  '(((((((((((..)))(((..)))((((..))))))))))))'],\n",
       " ['4REC',\n",
       "  'cgttgctacgcgtggcgagccgtagcaacggctcgccacg',\n",
       "  '(((((((((([[[[[[[[[[))))))))))]]]]]]]]]]'],\n",
       " ['1OMH', 'gcgcaccgaaaggtgcgtattgtct', '..((((((.).))))).........'],\n",
       " ['1QX0', 'gcgcaccgaaaggtgcgtattgtct', '..(((((....))))).........'],\n",
       " ['1S6M', 'gcgcaccgaaaggtgcgtattgtct', '..((((((.).))))).........'],\n",
       " ['1ZM5', 'gcgcaccgaaaggtgcgtattgtct', '..((((((.).))))).........'],\n",
       " ['5D23', 'gaatctatgtaaatttacatagattc', '((((((((((((()))))))))))))'],\n",
       " ['5D2S',\n",
       "  'tgtatgtatgtatgtatgcatacatacatacataca',\n",
       "  '(((((((((((((((((())))))))))))))))))'],\n",
       " ['2M91', 'gggaagggcgcgaagcattcgcgaggtagg', '(([..))((((((((.))))))))((.]))'],\n",
       " ['3HXO',\n",
       "  'ggcgtgcagtgccttcggccgtgcggtgcctccgtcacgc',\n",
       "  '.(((((.((.(((...))))).((((.(.).)))))))))'],\n",
       " ['2M8Z', 'ggttggcgcgaagcattcgcgggttgg', '((..))((((((...))))))((..))'],\n",
       " ['4CEJ',\n",
       "  'tctaatgcgagcatgctcgcattagattttgtttttttagcggtttaa',\n",
       "  '((((((((((((()))))))))))))....()................'],\n",
       " ['5CMX', 'tgacgtaggttggtgtggttggggcgtcac', '(((((((((..)).[)](..)..)))))).'],\n",
       " ['2M90',\n",
       "  'gcgcgaagcattcgcggggaggtggggaaggg',\n",
       "  '((((((((.))))))))([)(].[)(...].)'],\n",
       " ['2M92',\n",
       "  'agggtgggtgctggggcgcgaagcattcgcgagg',\n",
       "  '(([{.)]}.[.)]([(((((((...))))))))]'],\n",
       " ['2M93',\n",
       "  'ttgggtgggcgcgaagcattcgcggggtgggt',\n",
       "  '()([{.)]}.(((((...))))).([{.)]}.'],\n",
       " ['4I7Y', 'gtccgtggtagggcaggttggggtgac', '(((([(](.[)...).(.])..).)))'],\n",
       " ['2HY9', 'aaagggttagggttagggttagggaa', '.[{([{...)]}.(.(((.]})))).'],\n",
       " ['2JPZ', 'ttagggttagggttagggttagggtt', '...[([)(.](](.)[)(...].)).'],\n",
       " ['2LPW', 'aagggtgggtgtaagtgtgggtgggt', '.(([{.)]}........)([{.)]}.'],\n",
       " ['5MVB', 'ttagggttagggttagggttagggtt', '...(((...)))...([{...)]}..'],\n",
       " ['6CCW', 'ttagggttagggttagggttagggtt', '((.(((.[.))))).([{...)]}].'],\n",
       " ['2JSL', 'tagggttagggttagggttagggtt', '..(([)()][)...(][...).]..'],\n",
       " ['2JSQ', 'tagggttagggttagggttagggtt', '..(((.())))...([{...)]}..'],\n",
       " ['2MBJ', 'ttagggttagggttagggttagggtta', '..{(((..[)))...(((..})))]..'],\n",
       " ['2M53', 'tgtgggggtggacgggccgggtaga', '...(([)]..)..([{())]}....'],\n",
       " ['5Z80', 'aaagggttagggttagggttagggaa', '..[([{...)]}.(.(((.].)))).'],\n",
       " ['5MTA',\n",
       "  'cagggttaagggtataactttaggggttagggtt',\n",
       "  '..(([.).{)(](((..)..))[.(}...))]..'],\n",
       " ['5MTG',\n",
       "  'cagggttaagggtataactttaggggttagggtt',\n",
       "  '.{(([.).{)(](((....)))[.(}}..))]..'],\n",
       " ['2MS9', 'tggtggtggtggttgtggtggtggtgtt', '(([.)])([.)]..(.[).](.[).]..'],\n",
       " ['4U5M', 'tggtggtggtggttgtggtggtggtgtt', '(([.)])([.)]..(.[).](.[).]..'],\n",
       " ['2N3M', 'tggtggtggttgttgtggtggtggtggt', '(([.)].[{.)]..}.([.)].([.)].'],\n",
       " ['201D', 'ggggttttggggttttggggttttgggg', '(((((.)[))))....((((...]))))'],\n",
       " ['5J6U', 'ggggtttggggttttggggaagggg', '((((.[.))))....(((]...)))'],\n",
       " ['230D', 'ggggtutuggggttttgggguuttgggg', '((((...)[)))(.).(((.....])))']]"
      ]
     },
     "execution_count": 38,
     "metadata": {},
     "output_type": "execute_result"
    }
   ],
   "source": [
    "fullaptabase"
   ]
  },
  {
   "cell_type": "code",
   "execution_count": 36,
   "metadata": {},
   "outputs": [
    {
     "data": {
      "text/html": [
       "<div>\n",
       "<style scoped>\n",
       "    .dataframe tbody tr th:only-of-type {\n",
       "        vertical-align: middle;\n",
       "    }\n",
       "\n",
       "    .dataframe tbody tr th {\n",
       "        vertical-align: top;\n",
       "    }\n",
       "\n",
       "    .dataframe thead th {\n",
       "        text-align: right;\n",
       "    }\n",
       "</style>\n",
       "<table border=\"1\" class=\"dataframe\">\n",
       "  <thead>\n",
       "    <tr style=\"text-align: right;\">\n",
       "      <th></th>\n",
       "      <th>CentroidFold</th>\n",
       "      <th>RNAfold</th>\n",
       "      <th>Mfold</th>\n",
       "      <th>PDB_ID</th>\n",
       "      <th>Structure</th>\n",
       "      <th>Len</th>\n",
       "    </tr>\n",
       "  </thead>\n",
       "  <tbody>\n",
       "    <tr>\n",
       "      <th>0</th>\n",
       "      <td>1.0</td>\n",
       "      <td>1.0</td>\n",
       "      <td>1.0</td>\n",
       "      <td>1JVE</td>\n",
       "      <td>Triplex-DNA</td>\n",
       "      <td>27</td>\n",
       "    </tr>\n",
       "    <tr>\n",
       "      <th>1</th>\n",
       "      <td>1.0</td>\n",
       "      <td>1.0</td>\n",
       "      <td>1.0</td>\n",
       "      <td>1NGU</td>\n",
       "      <td>Hairpin with pseudoknots</td>\n",
       "      <td>27</td>\n",
       "    </tr>\n",
       "    <tr>\n",
       "      <th>2</th>\n",
       "      <td>1.0</td>\n",
       "      <td>1.0</td>\n",
       "      <td>1.0</td>\n",
       "      <td>2OEY</td>\n",
       "      <td>Hairpin with loops</td>\n",
       "      <td>25</td>\n",
       "    </tr>\n",
       "    <tr>\n",
       "      <th>3</th>\n",
       "      <td>1.0</td>\n",
       "      <td>1.0</td>\n",
       "      <td>1.0</td>\n",
       "      <td>2VWJ</td>\n",
       "      <td>Hairpin with dangling ends</td>\n",
       "      <td>26</td>\n",
       "    </tr>\n",
       "    <tr>\n",
       "      <th>4</th>\n",
       "      <td>1.0</td>\n",
       "      <td>1.0</td>\n",
       "      <td>1.0</td>\n",
       "      <td>3THW</td>\n",
       "      <td>Hairpin with loops</td>\n",
       "      <td>53</td>\n",
       "    </tr>\n",
       "  </tbody>\n",
       "</table>\n",
       "</div>"
      ],
      "text/plain": [
       "   CentroidFold  RNAfold  Mfold PDB_ID                   Structure  Len\n",
       "0           1.0      1.0    1.0   1JVE                 Triplex-DNA   27\n",
       "1           1.0      1.0    1.0   1NGU    Hairpin with pseudoknots   27\n",
       "2           1.0      1.0    1.0   2OEY          Hairpin with loops   25\n",
       "3           1.0      1.0    1.0   2VWJ  Hairpin with dangling ends   26\n",
       "4           1.0      1.0    1.0   3THW          Hairpin with loops   53"
      ]
     },
     "execution_count": 36,
     "metadata": {},
     "output_type": "execute_result"
    }
   ],
   "source": [
    "reftab = pd.read_csv('Reference_results.csv')\n",
    "reftab.head()"
   ]
  },
  {
   "cell_type": "code",
   "execution_count": 39,
   "metadata": {},
   "outputs": [
    {
     "data": {
      "text/html": [
       "<div>\n",
       "<style scoped>\n",
       "    .dataframe tbody tr th:only-of-type {\n",
       "        vertical-align: middle;\n",
       "    }\n",
       "\n",
       "    .dataframe tbody tr th {\n",
       "        vertical-align: top;\n",
       "    }\n",
       "\n",
       "    .dataframe thead th {\n",
       "        text-align: right;\n",
       "    }\n",
       "</style>\n",
       "<table border=\"1\" class=\"dataframe\">\n",
       "  <thead>\n",
       "    <tr style=\"text-align: right;\">\n",
       "      <th></th>\n",
       "      <th>PDB_ID</th>\n",
       "      <th>Sequence</th>\n",
       "      <th>2D</th>\n",
       "    </tr>\n",
       "  </thead>\n",
       "  <tbody>\n",
       "    <tr>\n",
       "      <th>0</th>\n",
       "      <td>1JVE</td>\n",
       "      <td>cctaattataacgaagttataattagg</td>\n",
       "      <td>(((((((((((((.)))))))))))))</td>\n",
       "    </tr>\n",
       "    <tr>\n",
       "      <th>1</th>\n",
       "      <td>1NGU</td>\n",
       "      <td>ctctccttgtatttcttacaaaaagag</td>\n",
       "      <td>(((((((((((.....)))))))))))</td>\n",
       "    </tr>\n",
       "    <tr>\n",
       "      <th>2</th>\n",
       "      <td>2OEY</td>\n",
       "      <td>ccatcgtctacctttggtaggatgg</td>\n",
       "      <td>(((((..(((((...))))))))))</td>\n",
       "    </tr>\n",
       "    <tr>\n",
       "      <th>3</th>\n",
       "      <td>2VWJ</td>\n",
       "      <td>aauggagacacggcttttgccgtgtc</td>\n",
       "      <td>......((((((((....))))))))</td>\n",
       "    </tr>\n",
       "    <tr>\n",
       "      <th>4</th>\n",
       "      <td>3THW</td>\n",
       "      <td>cctctatctgaagccgatcgatgaagcatcgatcgcacagcttcag...</td>\n",
       "      <td>((((((((((((((((((((((((.))))))))))....)))))))...</td>\n",
       "    </tr>\n",
       "  </tbody>\n",
       "</table>\n",
       "</div>"
      ],
      "text/plain": [
       "  PDB_ID                                           Sequence  \\\n",
       "0   1JVE                        cctaattataacgaagttataattagg   \n",
       "1   1NGU                        ctctccttgtatttcttacaaaaagag   \n",
       "2   2OEY                          ccatcgtctacctttggtaggatgg   \n",
       "3   2VWJ                         aauggagacacggcttttgccgtgtc   \n",
       "4   3THW  cctctatctgaagccgatcgatgaagcatcgatcgcacagcttcag...   \n",
       "\n",
       "                                                  2D  \n",
       "0                        (((((((((((((.)))))))))))))  \n",
       "1                        (((((((((((.....)))))))))))  \n",
       "2                          (((((..(((((...))))))))))  \n",
       "3                         ......((((((((....))))))))  \n",
       "4  ((((((((((((((((((((((((.))))))))))....)))))))...  "
      ]
     },
     "execution_count": 39,
     "metadata": {},
     "output_type": "execute_result"
    }
   ],
   "source": [
    "cols = ['PDB_ID', 'Sequence', '2D']\n",
    "aptabase = pd.DataFrame(fullaptabase, columns=cols)\n",
    "aptabase.head()"
   ]
  },
  {
   "cell_type": "code",
   "execution_count": 40,
   "metadata": {},
   "outputs": [
    {
     "data": {
      "text/html": [
       "<div>\n",
       "<style scoped>\n",
       "    .dataframe tbody tr th:only-of-type {\n",
       "        vertical-align: middle;\n",
       "    }\n",
       "\n",
       "    .dataframe tbody tr th {\n",
       "        vertical-align: top;\n",
       "    }\n",
       "\n",
       "    .dataframe thead th {\n",
       "        text-align: right;\n",
       "    }\n",
       "</style>\n",
       "<table border=\"1\" class=\"dataframe\">\n",
       "  <thead>\n",
       "    <tr style=\"text-align: right;\">\n",
       "      <th></th>\n",
       "      <th>PDB_ID</th>\n",
       "      <th>Sequence</th>\n",
       "      <th>2D</th>\n",
       "      <th>Len</th>\n",
       "      <th>Structure</th>\n",
       "      <th>RNAfold_ref</th>\n",
       "    </tr>\n",
       "  </thead>\n",
       "  <tbody>\n",
       "    <tr>\n",
       "      <th>0</th>\n",
       "      <td>1JVE</td>\n",
       "      <td>cctaattataacgaagttataattagg</td>\n",
       "      <td>(((((((((((((.)))))))))))))</td>\n",
       "      <td>27</td>\n",
       "      <td>Triplex-DNA</td>\n",
       "      <td>1.0</td>\n",
       "    </tr>\n",
       "    <tr>\n",
       "      <th>1</th>\n",
       "      <td>1NGU</td>\n",
       "      <td>ctctccttgtatttcttacaaaaagag</td>\n",
       "      <td>(((((((((((.....)))))))))))</td>\n",
       "      <td>27</td>\n",
       "      <td>Hairpin with pseudoknots</td>\n",
       "      <td>1.0</td>\n",
       "    </tr>\n",
       "    <tr>\n",
       "      <th>2</th>\n",
       "      <td>2OEY</td>\n",
       "      <td>ccatcgtctacctttggtaggatgg</td>\n",
       "      <td>(((((..(((((...))))))))))</td>\n",
       "      <td>25</td>\n",
       "      <td>Hairpin with loops</td>\n",
       "      <td>1.0</td>\n",
       "    </tr>\n",
       "    <tr>\n",
       "      <th>3</th>\n",
       "      <td>2VWJ</td>\n",
       "      <td>aauggagacacggcttttgccgtgtc</td>\n",
       "      <td>......((((((((....))))))))</td>\n",
       "      <td>26</td>\n",
       "      <td>Hairpin with dangling ends</td>\n",
       "      <td>1.0</td>\n",
       "    </tr>\n",
       "    <tr>\n",
       "      <th>4</th>\n",
       "      <td>3THW</td>\n",
       "      <td>cctctatctgaagccgatcgatgaagcatcgatcgcacagcttcag...</td>\n",
       "      <td>((((((((((((((((((((((((.))))))))))....)))))))...</td>\n",
       "      <td>53</td>\n",
       "      <td>Hairpin with loops</td>\n",
       "      <td>1.0</td>\n",
       "    </tr>\n",
       "  </tbody>\n",
       "</table>\n",
       "</div>"
      ],
      "text/plain": [
       "  PDB_ID                                           Sequence  \\\n",
       "0   1JVE                        cctaattataacgaagttataattagg   \n",
       "1   1NGU                        ctctccttgtatttcttacaaaaagag   \n",
       "2   2OEY                          ccatcgtctacctttggtaggatgg   \n",
       "3   2VWJ                         aauggagacacggcttttgccgtgtc   \n",
       "4   3THW  cctctatctgaagccgatcgatgaagcatcgatcgcacagcttcag...   \n",
       "\n",
       "                                                  2D  Len  \\\n",
       "0                        (((((((((((((.)))))))))))))   27   \n",
       "1                        (((((((((((.....)))))))))))   27   \n",
       "2                          (((((..(((((...))))))))))   25   \n",
       "3                         ......((((((((....))))))))   26   \n",
       "4  ((((((((((((((((((((((((.))))))))))....)))))))...   53   \n",
       "\n",
       "                    Structure  RNAfold_ref  \n",
       "0                 Triplex-DNA          1.0  \n",
       "1    Hairpin with pseudoknots          1.0  \n",
       "2          Hairpin with loops          1.0  \n",
       "3  Hairpin with dangling ends          1.0  \n",
       "4          Hairpin with loops          1.0  "
      ]
     },
     "execution_count": 40,
     "metadata": {},
     "output_type": "execute_result"
    }
   ],
   "source": [
    "aptabase['Len'] = reftab['Len']\n",
    "aptabase['Structure'] = reftab['Structure']\n",
    "aptabase['RNAfold_ref'] = reftab['RNAfold']\n",
    "aptabase.head()"
   ]
  },
  {
   "cell_type": "code",
   "execution_count": 41,
   "metadata": {},
   "outputs": [],
   "source": [
    "aptabase.to_csv('Aptamers_2D.csv', index=False)"
   ]
  },
  {
   "cell_type": "code",
   "execution_count": 28,
   "metadata": {},
   "outputs": [
    {
     "data": {
      "text/plain": [
       "['2M92',\n",
       " 'agggtgggtgctggggcgcgaagcattcgcgagg',\n",
       " '(([{.)]}.[.)]([(((((((...))))))))]']"
      ]
     },
     "execution_count": 28,
     "metadata": {},
     "output_type": "execute_result"
    }
   ],
   "source": [
    "pdbid_2_2d('2M92')"
   ]
  }
 ],
 "metadata": {
  "kernelspec": {
   "display_name": "aptabench_1",
   "language": "python",
   "name": "python3"
  },
  "language_info": {
   "codemirror_mode": {
    "name": "ipython",
    "version": 3
   },
   "file_extension": ".py",
   "mimetype": "text/x-python",
   "name": "python",
   "nbconvert_exporter": "python",
   "pygments_lexer": "ipython3",
   "version": "3.12.5"
  }
 },
 "nbformat": 4,
 "nbformat_minor": 2
}
