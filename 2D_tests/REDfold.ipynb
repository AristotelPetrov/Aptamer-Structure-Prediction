{
 "cells": [
  {
   "cell_type": "markdown",
   "metadata": {},
   "source": [
    "<h1>REDfold</h1>\n",
    "\n",
    "installed package but did not acknowledge how to use it (I need fasta data to train model, the data provided by developer is in .ct format, should I train on my own data or not), downloaded the database used by developers but it is in .ct format and very big and filenames somehow contain dots, so I will try to benchmark it on short dna aptamers dataset "
   ]
  },
  {
   "cell_type": "code",
   "execution_count": 1,
   "metadata": {},
   "outputs": [],
   "source": [
    "import pandas as pd\n",
    "\n",
    "import time\n",
    "from selenium import webdriver\n",
    "from selenium.webdriver.common.by import By\n",
    "\n",
    "from lxml import etree\n",
    "from bs4 import BeautifulSoup\n",
    "\n",
    "\n",
    "import subprocess"
   ]
  },
  {
   "cell_type": "code",
   "execution_count": 2,
   "metadata": {},
   "outputs": [
    {
     "data": {
      "text/plain": [
       "'.........................'"
      ]
     },
     "execution_count": 2,
     "metadata": {},
     "output_type": "execute_result"
    }
   ],
   "source": [
    "def redfold_web(s):\n",
    "\n",
    "    s = s.replace('t', 'u')\n",
    "    s = s.replace('T', 'U')\n",
    "\n",
    "    driver = webdriver.Chrome()\n",
    "    # Open web-server\n",
    "    driver.get('https://redfold.ee.ncyu.edu.tw/redfold/')  # Replace with your target URL\n",
    "\n",
    "    # type sequence\n",
    "    input_seq = driver.find_element(By.ID, \"Text1\")\n",
    "    input_seq.send_keys(s)\n",
    "\n",
    "    submitbutton = driver.find_element(By.NAME, 'Submit')\n",
    "    submitbutton.click()\n",
    "\n",
    "    result_html = driver.page_source\n",
    "    driver.quit()\n",
    "\n",
    "    soup = BeautifulSoup(result_html, 'html.parser')\n",
    "    # Находим элемент <pre> по классу\n",
    "    pre_element = soup.find('font')\n",
    "    text = pre_element.get_text()\n",
    "    text = text.split()\n",
    "\n",
    "    # Извлекаем текст из элемента\n",
    "    return text[4]\n",
    "\n",
    "redfold_web('aaaaaaaaaaaaatttttttttttt')"
   ]
  },
  {
   "cell_type": "code",
   "execution_count": 3,
   "metadata": {},
   "outputs": [
    {
     "name": "stdout",
     "output_type": "stream",
     "text": [
      "1-2-3-4-5-6-7-8-9-10-11-12-13-14-15-16-17-18-19-20-21-22-23-24-25-26-27-28-29-30-31-32-33-34-35-36-37-38-39-40-41-42-43-44-45-46-47-48-49-50-51-52-53-54-55-56-57-58-59-60-61-62-63-64-65-66-67-68-69-"
     ]
    }
   ],
   "source": [
    "aptabase = pd.read_csv('Aptamers_2D.csv')\n",
    "seqs = list(aptabase['Sequence'])\n",
    "preds = []\n",
    "for s in seqs:\n",
    "    preds.append(redfold_web(s))\n",
    "    print(len(preds), end='-')"
   ]
  },
  {
   "cell_type": "code",
   "execution_count": 4,
   "metadata": {},
   "outputs": [],
   "source": [
    "refs = aptabase['2D']"
   ]
  },
  {
   "cell_type": "code",
   "execution_count": 5,
   "metadata": {},
   "outputs": [],
   "source": [
    "def find_basepairs(s):\n",
    "    stack = []\n",
    "    result = []\n",
    "\n",
    "    for index, char in enumerate(s):\n",
    "        if char == '(':\n",
    "            stack.append(index)\n",
    "        elif char == ')':\n",
    "            # Если нашли закрывающую скобку, сопоставляем с последней открывающей\n",
    "            if stack:\n",
    "                open_index = stack.pop()\n",
    "                result.append((open_index, index))\n",
    "\n",
    "    return sorted(result)\n",
    "\n",
    "def find_knotpairs(s):\n",
    "    stack = []\n",
    "    #result = {}\n",
    "    result = []\n",
    "\n",
    "    for index, char in enumerate(s):\n",
    "        if char == '[':\n",
    "            # Запоминаем индекс открывающей скобки\n",
    "            stack.append(index)\n",
    "        elif char == ']':\n",
    "            # Если нашли закрывающую скобку, сопоставляем с последней открывающей\n",
    "            if stack:\n",
    "                open_index = stack.pop()\n",
    "                #result[open_index] = index\n",
    "                result.append((open_index, index))\n",
    "\n",
    "    return sorted(result)\n",
    "\n",
    "def find_otherpairs(s):\n",
    "    stack = []\n",
    "    #result = {}\n",
    "    result = []\n",
    "\n",
    "    for index, char in enumerate(s):\n",
    "        if char == '{':\n",
    "            # Запоминаем индекс открывающей скобки\n",
    "            stack.append(index)\n",
    "        elif char == '}':\n",
    "            # Если нашли закрывающую скобку, сопоставляем с последней открывающей\n",
    "            if stack:\n",
    "                open_index = stack.pop()\n",
    "                #result[open_index] = index\n",
    "                result.append((open_index, index))\n",
    "\n",
    "    return sorted(result)\n",
    "\n",
    "def find_pairs(s):\n",
    "    basepairs = find_basepairs(s)\n",
    "    knotpairs = find_knotpairs(s)\n",
    "    otherpairs = find_otherpairs(s)\n",
    "    pairs = basepairs + knotpairs + otherpairs\n",
    "    return sorted(pairs)\n",
    "\n",
    "\n",
    "\n",
    "# def possible_pairs(s):\n",
    "\n",
    "#     l = len(s)\n",
    "#     pairs = []\n",
    "#     for i in range(l):\n",
    "#         for j in range(i+1,l):\n",
    "#             pair = (i, j)\n",
    "#             pairs.append(pair)\n",
    "\n",
    "#     return pairs\n",
    "\n",
    "#faster benchmark which do not calculate accuracy and TN\n",
    "def Full_Benchmark_2Dv2(pred, ref, v=True):\n",
    "    \n",
    "    #Taminoto accuracy, adequate in case of g-quadruplexes predicted as '+' but not '[' and ']'\n",
    "    tcounter = 0\n",
    "    for i in range(len(ref)):\n",
    "        if ref[i] == pred[i]:\n",
    "            tcounter += 1\n",
    "\n",
    "        elif (ref[i] != '.') and pred[i] == '+':\n",
    "            tcounter += 1\n",
    "    taminoto = tcounter/len(ref)\n",
    "\n",
    "\n",
    "    #Binary classification metrics for all pairs\n",
    "    pred_pairs = find_pairs(pred)\n",
    "    ref_pairs = find_pairs(ref)\n",
    "    # poss_pairs = possible_pairs(ref)\n",
    "    \n",
    "    # ref_notpairs = [x for x in poss_pairs if x not in ref_pairs] \n",
    "    # pred_notpairs = [x for x in poss_pairs if x not in pred_pairs]\n",
    "    \n",
    "\n",
    "    TP = len(set(pred_pairs).intersection(ref_pairs))\n",
    "    FP = len(pred_pairs)-TP\n",
    "    # TN = len(set(pred_notpairs).intersection(ref_notpairs)) \n",
    "    # FN = len(pred_notpairs)-TN\n",
    "    FN = len(ref_pairs) -TP\n",
    "\n",
    "    if TP == 0:\n",
    "        TP = 0.0001\n",
    "\n",
    "    if FP == 0:\n",
    "        FP = 0.0001\n",
    "\n",
    "    # if TN == 0:\n",
    "    #     TN = 0.0001\n",
    "\n",
    "    if FN == 0:\n",
    "        FN = 0.0001\n",
    "    \n",
    "    # print(TP, TN, FP, FN, TP+FP+TN+FN)\n",
    "    # print(len(pred_pairs), len(pred_notpairs), len(ref_pairs), len(ref_notpairs), len(poss_pairs))\n",
    "\n",
    "    # Accuracy = (TP+TN)/(TP+TN+FP+FN)\n",
    "    Precision = TP/(TP+FP)\n",
    "    Recall = TP/(TP+FN)\n",
    "    F1_score = (2*Precision*Recall)/(Precision+Recall)\n",
    "\n",
    "    \n",
    "    if v:\n",
    "        print('Taminoto accuracy = ', round(taminoto, 3))\n",
    "        # print('Accuracy =', round(Accuracy, 3))\n",
    "        print('Precision =', round(Precision, 3))\n",
    "        print('Recall =', round(Recall, 3))\n",
    "        print('F1-score =', round(F1_score, 3))\n",
    "\n",
    "    else:\n",
    "        return taminoto, Precision, Recall, F1_score\n",
    "\n",
    "#Taminoto accuracy, adequate in case of g-quadruplexes predicted as '+' but not '[' and ']'\n",
    "def taminoto(pred, ref):\n",
    "    tcounter = 0\n",
    "    for i in range(len(ref)):\n",
    "        if ref[i] == pred[i]:\n",
    "            tcounter += 1\n",
    "\n",
    "        elif (ref[i] != '.') and pred[i] == '+':\n",
    "            tcounter += 1  \n",
    "\n",
    "    return tcounter/len(ref)\n",
    "\n",
    "\n",
    "def taminoto_accurate_percent(preds, refs, cutoff=0.85, v=True):\n",
    "    \n",
    "    acc_list = []\n",
    "    acc = 0\n",
    "    acc_counter = 0\n",
    "    for i in range(len(preds)):\n",
    "        acc = taminoto(preds[i], refs[i])\n",
    "        if acc >= cutoff:\n",
    "            acc_counter += 1\n",
    "        acc_list.append(acc)\n",
    "\n",
    "    if v:\n",
    "        print(f'% of Accurate structures (taminoto acc. >= {cutoff}) =', round(100*acc_counter/len(preds), 2))\n",
    "\n",
    "    else:\n",
    "        return acc_counter/len(preds), acc_list"
   ]
  },
  {
   "cell_type": "markdown",
   "metadata": {},
   "source": [
    "Dataset used by developers to test model"
   ]
  },
  {
   "cell_type": "code",
   "execution_count": 6,
   "metadata": {},
   "outputs": [
    {
     "name": "stdout",
     "output_type": "stream",
     "text": [
      "Taminoto accuracy =  0.315\n",
      "Precision = 0.069\n",
      "Recall = 0.789\n",
      "F1-score = 0.128\n"
     ]
    }
   ],
   "source": [
    "\n",
    "ref = ''.join(refs)\n",
    "pred = ''.join(preds)\n",
    "\n",
    "Full_Benchmark_2Dv2(ref, pred)"
   ]
  },
  {
   "cell_type": "code",
   "execution_count": 7,
   "metadata": {},
   "outputs": [
    {
     "name": "stdout",
     "output_type": "stream",
     "text": [
      "% of Accurate structures (taminoto acc. >= 0.85) = 0.0\n"
     ]
    }
   ],
   "source": [
    "taminoto_accurate_percent(preds, refs)"
   ]
  },
  {
   "cell_type": "code",
   "execution_count": 8,
   "metadata": {},
   "outputs": [],
   "source": [
    "aptabase['REDfold'] = preds\n",
    "aptabase.to_csv('REDfold_benchmarking.csv')"
   ]
  }
 ],
 "metadata": {
  "kernelspec": {
   "display_name": "aptabench2",
   "language": "python",
   "name": "python3"
  },
  "language_info": {
   "codemirror_mode": {
    "name": "ipython",
    "version": 3
   },
   "file_extension": ".py",
   "mimetype": "text/x-python",
   "name": "python",
   "nbconvert_exporter": "python",
   "pygments_lexer": "ipython3",
   "version": "3.12.5"
  }
 },
 "nbformat": 4,
 "nbformat_minor": 2
}
