{
 "cells": [
  {
   "cell_type": "markdown",
   "metadata": {},
   "source": [
    "<h2>MXfold2 Benchmark</h2>\n",
    "<h3>Prerequisites</h3>\n",
    "\n"
   ]
  },
  {
   "cell_type": "code",
   "execution_count": 2,
   "metadata": {},
   "outputs": [],
   "source": [
    "import pandas as pd"
   ]
  },
  {
   "cell_type": "code",
   "execution_count": 3,
   "metadata": {},
   "outputs": [],
   "source": [
    "def find_basepairs(s):\n",
    "    stack = []\n",
    "    result = []\n",
    "\n",
    "    for index, char in enumerate(s):\n",
    "        if char == '(':\n",
    "            stack.append(index)\n",
    "        elif char == ')':\n",
    "            # Если нашли закрывающую скобку, сопоставляем с последней открывающей\n",
    "            if stack:\n",
    "                open_index = stack.pop()\n",
    "                result.append((open_index, index))\n",
    "\n",
    "    return sorted(result)\n",
    "\n",
    "def find_knotpairs(s):\n",
    "    stack = []\n",
    "    #result = {}\n",
    "    result = []\n",
    "\n",
    "    for index, char in enumerate(s):\n",
    "        if char == '[':\n",
    "            # Запоминаем индекс открывающей скобки\n",
    "            stack.append(index)\n",
    "        elif char == ']':\n",
    "            # Если нашли закрывающую скобку, сопоставляем с последней открывающей\n",
    "            if stack:\n",
    "                open_index = stack.pop()\n",
    "                #result[open_index] = index\n",
    "                result.append((open_index, index))\n",
    "\n",
    "    return sorted(result)\n",
    "\n",
    "def find_otherpairs(s):\n",
    "    stack = []\n",
    "    #result = {}\n",
    "    result = []\n",
    "\n",
    "    for index, char in enumerate(s):\n",
    "        if char == '{':\n",
    "            # Запоминаем индекс открывающей скобки\n",
    "            stack.append(index)\n",
    "        elif char == '}':\n",
    "            # Если нашли закрывающую скобку, сопоставляем с последней открывающей\n",
    "            if stack:\n",
    "                open_index = stack.pop()\n",
    "                #result[open_index] = index\n",
    "                result.append((open_index, index))\n",
    "\n",
    "    return sorted(result)\n",
    "\n",
    "def find_pairs(s):\n",
    "    basepairs = find_basepairs(s)\n",
    "    knotpairs = find_knotpairs(s)\n",
    "    otherpairs = find_otherpairs(s)\n",
    "    pairs = basepairs + knotpairs + otherpairs\n",
    "    return sorted(pairs)\n",
    "\n",
    "\n",
    "\n",
    "# def possible_pairs(s):\n",
    "\n",
    "#     l = len(s)\n",
    "#     pairs = []\n",
    "#     for i in range(l):\n",
    "#         for j in range(i+1,l):\n",
    "#             pair = (i, j)\n",
    "#             pairs.append(pair)\n",
    "\n",
    "#     return pairs\n",
    "\n",
    "#faster benchmark which do not calculate accuracy and TN\n",
    "def Full_Benchmark_2Dv2(pred, ref, v=True):\n",
    "    \n",
    "    #Taminoto accuracy, adequate in case of g-quadruplexes predicted as '+' but not '[' and ']'\n",
    "    tcounter = 0\n",
    "    for i in range(len(ref)):\n",
    "        if ref[i] == pred[i]:\n",
    "            tcounter += 1\n",
    "\n",
    "        elif (ref[i] != '.') and pred[i] == '+':\n",
    "            tcounter += 1\n",
    "    taminoto = tcounter/len(ref)\n",
    "\n",
    "\n",
    "    #Binary classification metrics for all pairs\n",
    "    pred_pairs = find_pairs(pred)\n",
    "    ref_pairs = find_pairs(ref)\n",
    "    # poss_pairs = possible_pairs(ref)\n",
    "    \n",
    "    # ref_notpairs = [x for x in poss_pairs if x not in ref_pairs] \n",
    "    # pred_notpairs = [x for x in poss_pairs if x not in pred_pairs]\n",
    "    \n",
    "\n",
    "    TP = len(set(pred_pairs).intersection(ref_pairs))\n",
    "    FP = len(pred_pairs)-TP\n",
    "    # TN = len(set(pred_notpairs).intersection(ref_notpairs)) \n",
    "    # FN = len(pred_notpairs)-TN\n",
    "    FN = len(ref_pairs) -TP\n",
    "\n",
    "    if TP == 0:\n",
    "        TP = 0.0001\n",
    "\n",
    "    if FP == 0:\n",
    "        FP = 0.0001\n",
    "\n",
    "    # if TN == 0:\n",
    "    #     TN = 0.0001\n",
    "\n",
    "    if FN == 0:\n",
    "        FN = 0.0001\n",
    "    \n",
    "    # print(TP, TN, FP, FN, TP+FP+TN+FN)\n",
    "    # print(len(pred_pairs), len(pred_notpairs), len(ref_pairs), len(ref_notpairs), len(poss_pairs))\n",
    "\n",
    "    # Accuracy = (TP+TN)/(TP+TN+FP+FN)\n",
    "    Precision = TP/(TP+FP)\n",
    "    Recall = TP/(TP+FN)\n",
    "    F1_score = (2*Precision*Recall)/(Precision+Recall)\n",
    "\n",
    "    \n",
    "    if v:\n",
    "        print('Taminoto accuracy = ', round(taminoto, 3))\n",
    "        # print('Accuracy =', round(Accuracy, 3))\n",
    "        print('Precision =', round(Precision, 3))\n",
    "        print('Recall =', round(Recall, 3))\n",
    "        print('F1-score =', round(F1_score, 3))\n",
    "\n",
    "    else:\n",
    "        return taminoto, Precision, Recall, F1_score\n",
    "\n",
    "#Taminoto accuracy, adequate in case of g-quadruplexes predicted as '+' but not '[' and ']'\n",
    "def taminoto(pred, ref):\n",
    "    tcounter = 0\n",
    "    for i in range(len(ref)):\n",
    "        if ref[i] == pred[i]:\n",
    "            tcounter += 1\n",
    "\n",
    "        elif (ref[i] != '.') and pred[i] == '+':\n",
    "            tcounter += 1  \n",
    "\n",
    "    return tcounter/len(ref)\n",
    "\n",
    "\n",
    "def taminoto_accurate_percent(preds, refs, cutoff=0.85, v=True):\n",
    "    \n",
    "    acc_list = []\n",
    "    acc = 0\n",
    "    acc_counter = 0\n",
    "    for i in range(len(preds)):\n",
    "        acc = taminoto(preds[i], refs[i])\n",
    "        if acc >= cutoff:\n",
    "            acc_counter += 1\n",
    "        acc_list.append(acc)\n",
    "\n",
    "    if v:\n",
    "        print(f'% of Accurate structures (taminoto acc. >= {cutoff}) =', round(100*acc_counter/len(preds), 2))\n",
    "\n",
    "    else:\n",
    "        return acc_counter/len(preds), acc_list"
   ]
  },
  {
   "cell_type": "markdown",
   "metadata": {},
   "source": [
    "Dataset used by developers to test model"
   ]
  },
  {
   "cell_type": "code",
   "execution_count": 4,
   "metadata": {},
   "outputs": [
    {
     "name": "stdout",
     "output_type": "stream",
     "text": [
      "Taminoto accuracy =  0.857\n",
      "Precision = 0.822\n",
      "Recall = 0.808\n",
      "F1-score = 0.815\n"
     ]
    }
   ],
   "source": [
    "testseta = pd.read_csv('MXfold2_test100.csv')\n",
    "testrefs = list(testseta['2D'])\n",
    "testpreds = list(testseta['MXfold2'])\n",
    "\n",
    "testref = ''.join(testrefs)\n",
    "testpred = ''.join(testpreds)\n",
    "\n",
    "Full_Benchmark_2Dv2(testref, testpred)"
   ]
  },
  {
   "cell_type": "code",
   "execution_count": 5,
   "metadata": {},
   "outputs": [
    {
     "name": "stdout",
     "output_type": "stream",
     "text": [
      "% of Accurate structures (taminoto acc. >= 0.85) = 62.0\n"
     ]
    }
   ],
   "source": [
    "taminoto_accurate_percent(testpreds, testrefs)"
   ]
  },
  {
   "cell_type": "code",
   "execution_count": 6,
   "metadata": {},
   "outputs": [
    {
     "name": "stdout",
     "output_type": "stream",
     "text": [
      "Taminoto accuracy =  0.689\n",
      "Precision = 0.584\n",
      "Recall = 0.844\n",
      "F1-score = 0.691\n"
     ]
    }
   ],
   "source": [
    "aptamers = pd.read_csv('MXfold2_benchmarking.csv')\n",
    "aptarefs = list(aptamers['2D'])\n",
    "aptapreds = list(aptamers['MXfold2'])\n",
    "\n",
    "aptaref = ''.join(aptarefs)\n",
    "aptapred = ''.join(aptapreds)\n",
    "\n",
    "Full_Benchmark_2Dv2(aptaref, aptapred)"
   ]
  },
  {
   "cell_type": "code",
   "execution_count": 7,
   "metadata": {},
   "outputs": [
    {
     "name": "stdout",
     "output_type": "stream",
     "text": [
      "% of Accurate structures (taminoto acc. >= 0.85) = 37.68\n"
     ]
    }
   ],
   "source": [
    "taminoto_accurate_percent(aptapreds, aptarefs)"
   ]
  },
  {
   "cell_type": "markdown",
   "metadata": {},
   "source": [
    "F1-score is a bit better than for RNAfold, but % of accurate structures and taminoto score is worse. Precision drop dramatically from test set A, I think its because of non-canonical pairs "
   ]
  }
 ],
 "metadata": {
  "kernelspec": {
   "display_name": "aptabench_1",
   "language": "python",
   "name": "python3"
  },
  "language_info": {
   "codemirror_mode": {
    "name": "ipython",
    "version": 3
   },
   "file_extension": ".py",
   "mimetype": "text/x-python",
   "name": "python",
   "nbconvert_exporter": "python",
   "pygments_lexer": "ipython3",
   "version": "3.12.5"
  }
 },
 "nbformat": 4,
 "nbformat_minor": 2
}
