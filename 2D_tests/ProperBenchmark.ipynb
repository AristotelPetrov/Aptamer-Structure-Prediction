{
 "cells": [
  {
   "cell_type": "markdown",
   "metadata": {},
   "source": [
    "The metrics calculation performed in RNAfold_Benchmark.ipynb and IPknot_Benchmark.ipynb turned out to be wrong.\n",
    "Here I provide proper calculation of metrics for these tools and code snippets for further benchmarking.\n",
    "\n",
    "In Aptamers_2D.csv [RNAfold_ref] is not accuracy, it is Taminoto score (Taminoto accuracy) used in https://www.ncbi.nlm.nih.gov/pmc/articles/PMC6975895/\n",
    "\n",
    "Same for [RNAfold_ref] and [RNAfold_real] in RNAfold_benchmarking.csv and [IPknotv1] in IPknot_benchmarking.csv"
   ]
  },
  {
   "cell_type": "code",
   "execution_count": 22,
   "metadata": {},
   "outputs": [],
   "source": [
    "import pandas as pd"
   ]
  },
  {
   "cell_type": "code",
   "execution_count": 52,
   "metadata": {},
   "outputs": [],
   "source": [
    "def find_basepairs(s):\n",
    "    stack = []\n",
    "    result = []\n",
    "\n",
    "    for index, char in enumerate(s):\n",
    "        if char == '(':\n",
    "            stack.append(index)\n",
    "        elif char == ')':\n",
    "            # Если нашли закрывающую скобку, сопоставляем с последней открывающей\n",
    "            if stack:\n",
    "                open_index = stack.pop()\n",
    "                result.append((open_index, index))\n",
    "\n",
    "    return sorted(result)\n",
    "\n",
    "def find_knotpairs(s):\n",
    "    stack = []\n",
    "    #result = {}\n",
    "    result = []\n",
    "\n",
    "    for index, char in enumerate(s):\n",
    "        if char == '[':\n",
    "            # Запоминаем индекс открывающей скобки\n",
    "            stack.append(index)\n",
    "        elif char == ']':\n",
    "            # Если нашли закрывающую скобку, сопоставляем с последней открывающей\n",
    "            if stack:\n",
    "                open_index = stack.pop()\n",
    "                #result[open_index] = index\n",
    "                result.append((open_index, index))\n",
    "\n",
    "    return sorted(result)\n",
    "\n",
    "def find_otherpairs(s):\n",
    "    stack = []\n",
    "    #result = {}\n",
    "    result = []\n",
    "\n",
    "    for index, char in enumerate(s):\n",
    "        if char == '{':\n",
    "            # Запоминаем индекс открывающей скобки\n",
    "            stack.append(index)\n",
    "        elif char == '}':\n",
    "            # Если нашли закрывающую скобку, сопоставляем с последней открывающей\n",
    "            if stack:\n",
    "                open_index = stack.pop()\n",
    "                #result[open_index] = index\n",
    "                result.append((open_index, index))\n",
    "\n",
    "    return sorted(result)\n",
    "\n",
    "def find_pairs(s):\n",
    "    basepairs = find_basepairs(s)\n",
    "    knotpairs = find_knotpairs(s)\n",
    "    otherpairs = find_otherpairs(s)\n",
    "    pairs = basepairs + knotpairs + otherpairs\n",
    "    return sorted(pairs)\n",
    "\n",
    "\n",
    "\n",
    "def possible_pairs(s):\n",
    "\n",
    "    l = len(s)\n",
    "    pairs = []\n",
    "    for i in range(l):\n",
    "        for j in range(i+1,l):\n",
    "            pair = (i, j)\n",
    "            pairs.append(pair)\n",
    "\n",
    "    return pairs\n",
    "\n",
    "\n",
    "def Full_Benchmark_2D(pred, ref, v=True):\n",
    "    \n",
    "    #Taminoto accuracy, adequate in case of g-quadruplexes predicted as '+' but not '[' and ']'\n",
    "    tcounter = 0\n",
    "    for i in range(len(ref)):\n",
    "        if ref[i] == pred[i]:\n",
    "            tcounter += 1\n",
    "\n",
    "        elif (ref[i] != '.') and pred[i] == '+':\n",
    "            tcounter += 1\n",
    "    taminoto = tcounter/len(ref)\n",
    "\n",
    "\n",
    "    #Binary classification metrics for all pairs\n",
    "    pred_pairs = find_pairs(pred)\n",
    "    ref_pairs = find_pairs(ref)\n",
    "    poss_pairs = possible_pairs(ref)\n",
    "    \n",
    "    ref_notpairs = [x for x in poss_pairs if x not in ref_pairs] \n",
    "    pred_notpairs = [x for x in poss_pairs if x not in pred_pairs]\n",
    "    \n",
    "\n",
    "    TP = len(set(pred_pairs).intersection(ref_pairs))\n",
    "    FP = len(pred_pairs) -TP\n",
    "    TN = len(set(pred_notpairs).intersection(ref_notpairs)) \n",
    "    FN = len(pred_notpairs)-TN\n",
    "\n",
    "    Accuracy = (TP+TN)/(TP+TN+FP+FN)\n",
    "    Precision = TP/(TP+FP)\n",
    "    Recall = TP/(TP+FN)\n",
    "    F1_score = (2*Precision*Recall)/(Precision+Recall)\n",
    "\n",
    "    \n",
    "    if v:\n",
    "        print('Taminoto accuracy = ', round(taminoto, 3))\n",
    "        print('Accuracy =', round(Accuracy, 3))\n",
    "        print('Precision =', round(Precision, 3))\n",
    "        print('Recall =', round(Recall, 3))\n",
    "        print('F1-score =', round(F1_score, 3))\n",
    "\n",
    "    else:\n",
    "        return taminoto, Accuracy, Precision, Recall, F1_score\n"
   ]
  },
  {
   "cell_type": "code",
   "execution_count": 40,
   "metadata": {},
   "outputs": [
    {
     "name": "stdout",
     "output_type": "stream",
     "text": [
      "Taminoto accuracy =  0.889\n",
      "Accuracy = 0.997\n",
      "Precision = 1.0\n",
      "Recall = 0.875\n",
      "F1-score = 0.933\n"
     ]
    }
   ],
   "source": [
    "test_ref = '(((((((((((((((())))))))))))))))....'\n",
    "test_pred = '((((((((((((((....))))))))))))))....'\n",
    "Full_Benchmark_2D(test_pred, test_ref)"
   ]
  },
  {
   "cell_type": "code",
   "execution_count": 48,
   "metadata": {},
   "outputs": [
    {
     "name": "stdout",
     "output_type": "stream",
     "text": [
      "Taminoto accuracy =  0.056\n",
      "Accuracy = 0.973\n",
      "Precision = 0.0\n",
      "Recall = 0.0\n",
      "F1-score = 0.0\n"
     ]
    }
   ],
   "source": [
    "test_ref = '(((((((((((((((())))))))))))))))....'\n",
    "test_pred = '.'*(len(test_ref)-2) +'()' \n",
    "Full_Benchmark_2D(test_pred, test_ref)"
   ]
  },
  {
   "cell_type": "markdown",
   "metadata": {},
   "source": [
    "On absolutely wrong prediction accuracy is very high because the number of possible pairs increases too fast (as n^n) therefore TN is much bigger than TP, FN and FP. So F1-score is much more reasonable metric."
   ]
  },
  {
   "cell_type": "code",
   "execution_count": 53,
   "metadata": {},
   "outputs": [
    {
     "name": "stdout",
     "output_type": "stream",
     "text": [
      "Taminoto accuracy =  0.76\n",
      "Accuracy = 1.0\n",
      "Precision = 0.809\n",
      "Recall = 0.558\n",
      "F1-score = 0.661\n"
     ]
    }
   ],
   "source": [
    "#RNAfold, a bit long - 2-3 minutes \n",
    "rnafold_db = pd.read_csv('RNAfold_benchmarking.csv', index_col=0)\n",
    "rnafold_pred = ''.join(list(rnafold_db['RNAfold_2D']))\n",
    "ref2d = ''.join(list(rnafold_db['2D']))\n",
    "Full_Benchmark_2D(rnafold_pred, ref2d)"
   ]
  },
  {
   "cell_type": "code",
   "execution_count": 54,
   "metadata": {},
   "outputs": [],
   "source": [
    "def find_basepairs(s):\n",
    "    stack = []\n",
    "    result = []\n",
    "\n",
    "    for index, char in enumerate(s):\n",
    "        if char == '(':\n",
    "            stack.append(index)\n",
    "        elif char == ')':\n",
    "            # Если нашли закрывающую скобку, сопоставляем с последней открывающей\n",
    "            if stack:\n",
    "                open_index = stack.pop()\n",
    "                result.append((open_index, index))\n",
    "\n",
    "    return sorted(result)\n",
    "\n",
    "def find_knotpairs(s):\n",
    "    stack = []\n",
    "    #result = {}\n",
    "    result = []\n",
    "\n",
    "    for index, char in enumerate(s):\n",
    "        if char == '[':\n",
    "            # Запоминаем индекс открывающей скобки\n",
    "            stack.append(index)\n",
    "        elif char == ']':\n",
    "            # Если нашли закрывающую скобку, сопоставляем с последней открывающей\n",
    "            if stack:\n",
    "                open_index = stack.pop()\n",
    "                #result[open_index] = index\n",
    "                result.append((open_index, index))\n",
    "\n",
    "    return sorted(result)\n",
    "\n",
    "def find_otherpairs(s):\n",
    "    stack = []\n",
    "    #result = {}\n",
    "    result = []\n",
    "\n",
    "    for index, char in enumerate(s):\n",
    "        if char == '{':\n",
    "            # Запоминаем индекс открывающей скобки\n",
    "            stack.append(index)\n",
    "        elif char == '}':\n",
    "            # Если нашли закрывающую скобку, сопоставляем с последней открывающей\n",
    "            if stack:\n",
    "                open_index = stack.pop()\n",
    "                #result[open_index] = index\n",
    "                result.append((open_index, index))\n",
    "\n",
    "    return sorted(result)\n",
    "\n",
    "def find_pairs(s):\n",
    "    basepairs = find_basepairs(s)\n",
    "    knotpairs = find_knotpairs(s)\n",
    "    otherpairs = find_otherpairs(s)\n",
    "    pairs = basepairs + knotpairs + otherpairs\n",
    "    return sorted(pairs)\n",
    "\n",
    "\n",
    "\n",
    "# def possible_pairs(s):\n",
    "\n",
    "#     l = len(s)\n",
    "#     pairs = []\n",
    "#     for i in range(l):\n",
    "#         for j in range(i+1,l):\n",
    "#             pair = (i, j)\n",
    "#             pairs.append(pair)\n",
    "\n",
    "#     return pairs\n",
    "\n",
    "#faster benchmark which do not calculate accuracy and TN\n",
    "def Full_Benchmark_2Dv2(pred, ref, v=True):\n",
    "    \n",
    "    #Taminoto accuracy, adequate in case of g-quadruplexes predicted as '+' but not '[' and ']'\n",
    "    tcounter = 0\n",
    "    for i in range(len(ref)):\n",
    "        if ref[i] == pred[i]:\n",
    "            tcounter += 1\n",
    "\n",
    "        elif (ref[i] != '.') and pred[i] == '+':\n",
    "            tcounter += 1\n",
    "    taminoto = tcounter/len(ref)\n",
    "\n",
    "\n",
    "    #Binary classification metrics for all pairs\n",
    "    pred_pairs = find_pairs(pred)\n",
    "    ref_pairs = find_pairs(ref)\n",
    "    # poss_pairs = possible_pairs(ref)\n",
    "    \n",
    "    # ref_notpairs = [x for x in poss_pairs if x not in ref_pairs] \n",
    "    # pred_notpairs = [x for x in poss_pairs if x not in pred_pairs]\n",
    "    \n",
    "\n",
    "    TP = len(set(pred_pairs).intersection(ref_pairs))\n",
    "    FP = len(pred_pairs)-TP\n",
    "    # TN = len(set(pred_notpairs).intersection(ref_notpairs)) \n",
    "    # FN = len(pred_notpairs)-TN\n",
    "    FN = len(ref_pairs) -TP\n",
    "\n",
    "    if TP == 0:\n",
    "        TP = 0.0001\n",
    "\n",
    "    if FP == 0:\n",
    "        FP = 0.0001\n",
    "\n",
    "    # if TN == 0:\n",
    "    #     TN = 0.0001\n",
    "\n",
    "    if FN == 0:\n",
    "        FN = 0.0001\n",
    "    \n",
    "    # print(TP, TN, FP, FN, TP+FP+TN+FN)\n",
    "    # print(len(pred_pairs), len(pred_notpairs), len(ref_pairs), len(ref_notpairs), len(poss_pairs))\n",
    "\n",
    "    # Accuracy = (TP+TN)/(TP+TN+FP+FN)\n",
    "    Precision = TP/(TP+FP)\n",
    "    Recall = TP/(TP+FN)\n",
    "    F1_score = (2*Precision*Recall)/(Precision+Recall)\n",
    "\n",
    "    \n",
    "    if v:\n",
    "        print('Taminoto accuracy = ', round(taminoto, 3))\n",
    "        # print('Accuracy =', round(Accuracy, 3))\n",
    "        print('Precision =', round(Precision, 3))\n",
    "        print('Recall =', round(Recall, 3))\n",
    "        print('F1-score =', round(F1_score, 3))\n",
    "\n",
    "    else:\n",
    "        return taminoto, Precision, Recall, F1_score\n"
   ]
  },
  {
   "cell_type": "code",
   "execution_count": 57,
   "metadata": {},
   "outputs": [
    {
     "name": "stdout",
     "output_type": "stream",
     "text": [
      "Overall Metrics for RNAfold predictions\n",
      "Taminoto accuracy =  0.76\n",
      "Precision = 0.809\n",
      "Recall = 0.558\n",
      "F1-score = 0.661\n"
     ]
    }
   ],
   "source": [
    "rnafold_db = pd.read_csv('RNAfold_benchmarking.csv', index_col=0)\n",
    "rnafold_pred = ''.join(list(rnafold_db['RNAfold_2D']))\n",
    "ref2d = ''.join(list(rnafold_db['2D']))\n",
    "print('Overall Metrics for RNAfold predictions')\n",
    "Full_Benchmark_2Dv2(rnafold_pred, ref2d)"
   ]
  },
  {
   "cell_type": "code",
   "execution_count": 68,
   "metadata": {},
   "outputs": [],
   "source": [
    "#Taminoto accuracy, adequate in case of g-quadruplexes predicted as '+' but not '[' and ']'\n",
    "def taminoto(pred, ref):\n",
    "    tcounter = 0\n",
    "    for i in range(len(ref)):\n",
    "        if ref[i] == pred[i]:\n",
    "            tcounter += 1\n",
    "\n",
    "        elif (ref[i] != '.') and pred[i] == '+':\n",
    "            tcounter += 1  \n",
    "\n",
    "    return tcounter/len(ref)\n",
    "\n",
    "\n",
    "def taminoto_accurate_percent(preds, refs, cutoff=0.85, v=True):\n",
    "    \n",
    "    acc_list = []\n",
    "    acc = 0\n",
    "    acc_counter = 0\n",
    "    for i in range(len(preds)):\n",
    "        acc = taminoto(preds[i], refs[i])\n",
    "        if acc >= cutoff:\n",
    "            acc_counter += 1\n",
    "        acc_list.append(acc)\n",
    "\n",
    "    if v:\n",
    "        print(f'% of Accurate structures (taminoto acc. >= {cutoff}) =', round(100*acc_counter/len(preds), 2))\n",
    "\n",
    "    else:\n",
    "        return acc_counter/len(preds), acc_list"
   ]
  },
  {
   "cell_type": "code",
   "execution_count": 69,
   "metadata": {},
   "outputs": [
    {
     "name": "stdout",
     "output_type": "stream",
     "text": [
      "For RNAfold\n",
      "% of Accurate structures (taminoto acc. >= 0.85) = 46.38\n"
     ]
    }
   ],
   "source": [
    "print('For RNAfold')\n",
    "taminoto_accurate_percent(list(rnafold_db['RNAfold_2D']), list(rnafold_db['2D']))"
   ]
  },
  {
   "cell_type": "code",
   "execution_count": 71,
   "metadata": {},
   "outputs": [
    {
     "name": "stdout",
     "output_type": "stream",
     "text": [
      "RNAfold on G-quadruplexes\n",
      "% of Accurate structures (taminoto acc. >= 0.85) = 33.33\n",
      "Overall Metrics for RNAfold predictions\n",
      "Taminoto accuracy =  0.697\n",
      "Precision = 0.459\n",
      "Recall = 0.125\n",
      "F1-score = 0.196\n"
     ]
    }
   ],
   "source": [
    "print('RNAfold on G-quadruplexes')\n",
    "taminoto_accurate_percent(list(rnafold_db['RNAfold_2D'])[45:], list(rnafold_db['2D'])[45:])\n",
    "\n",
    "rnafold_db = pd.read_csv('RNAfold_benchmarking.csv', index_col=0)\n",
    "rnafold_pred = ''.join(list(rnafold_db['RNAfold_2D'])[45:])\n",
    "ref2d = ''.join(list(rnafold_db['2D'])[45:])\n",
    "print('Overall Metrics for RNAfold predictions')\n",
    "Full_Benchmark_2Dv2(rnafold_pred, ref2d)"
   ]
  },
  {
   "cell_type": "code",
   "execution_count": 73,
   "metadata": {},
   "outputs": [
    {
     "name": "stdout",
     "output_type": "stream",
     "text": [
      "Overall Metrics for IPknot predictions\n",
      "Taminoto accuracy =  0.656\n",
      "Precision = 0.79\n",
      "Recall = 0.555\n",
      "F1-score = 0.652\n"
     ]
    }
   ],
   "source": [
    "ipknot_db = pd.read_csv('IPknot_benchmarking.csv', index_col=0)\n",
    "ipknot_pred = ''.join(list(ipknot_db['IPknotv1_2D']))\n",
    "ref2d = ''.join(list(ipknot_db['2D']))\n",
    "print('Overall Metrics for IPknot predictions')\n",
    "Full_Benchmark_2Dv2(ipknot_pred, ref2d)"
   ]
  },
  {
   "cell_type": "code",
   "execution_count": 75,
   "metadata": {},
   "outputs": [
    {
     "name": "stdout",
     "output_type": "stream",
     "text": [
      "IPknot on pseudoknots\n",
      "Taminoto accuracy = 0.0\n"
     ]
    }
   ],
   "source": [
    "print('IPknot on pseudoknots')\n",
    "\n",
    "def taminoto_pseudoknots(pred, ref):\n",
    "    l = 0 \n",
    "    counter = 0\n",
    "    for i in range(len(ref)):\n",
    "        if ((ref[i] in ('[', ']', '{', '}')) or (pred[i] in ('[', ']', '{', '}'))):\n",
    "            l+=1\n",
    "            if (ref[i] == pred[i]):\n",
    "                counter += 1\n",
    "\n",
    "    return counter/l\n",
    "\n",
    "print('Taminoto accuracy =', taminoto_pseudoknots(ipknot_pred, ref2d))"
   ]
  },
  {
   "cell_type": "code",
   "execution_count": 78,
   "metadata": {},
   "outputs": [
    {
     "data": {
      "text/plain": [
       "0.5"
      ]
     },
     "execution_count": 78,
     "metadata": {},
     "output_type": "execute_result"
    }
   ],
   "source": [
    "#example showing we are not mistaken \n",
    "taminoto_pseudoknots('((([)))]', '...[[].]')"
   ]
  },
  {
   "cell_type": "markdown",
   "metadata": {},
   "source": [
    "In all cases IPknot v1 (level=3, model=NUPACK) failed to predict pseudokots, although prediction of classical secondary structure elements were compatible with RNAfold results. \n",
    "\n",
    "There are many of non-canonical base pairs in pseudoknots, thats why I consider that choosing another settings will not improve IPknot performance\n"
   ]
  }
 ],
 "metadata": {
  "kernelspec": {
   "display_name": "aptabench_1",
   "language": "python",
   "name": "python3"
  },
  "language_info": {
   "codemirror_mode": {
    "name": "ipython",
    "version": 3
   },
   "file_extension": ".py",
   "mimetype": "text/x-python",
   "name": "python",
   "nbconvert_exporter": "python",
   "pygments_lexer": "ipython3",
   "version": "3.12.5"
  }
 },
 "nbformat": 4,
 "nbformat_minor": 2
}
