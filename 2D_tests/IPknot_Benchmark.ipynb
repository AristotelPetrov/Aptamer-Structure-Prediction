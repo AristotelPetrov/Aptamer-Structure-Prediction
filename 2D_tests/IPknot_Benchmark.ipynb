{
 "cells": [
  {
   "cell_type": "markdown",
   "metadata": {},
   "source": [
    "<h3>Tests for IPknot</h3>"
   ]
  },
  {
   "cell_type": "code",
   "execution_count": 1,
   "metadata": {},
   "outputs": [],
   "source": [
    "import pandas as pd\n",
    "\n",
    "import time\n",
    "from selenium import webdriver\n",
    "from selenium.webdriver.common.by import By\n",
    "\n",
    "from bs4 import BeautifulSoup"
   ]
  },
  {
   "cell_type": "code",
   "execution_count": 2,
   "metadata": {},
   "outputs": [
    {
     "data": {
      "text/html": [
       "<div>\n",
       "<style scoped>\n",
       "    .dataframe tbody tr th:only-of-type {\n",
       "        vertical-align: middle;\n",
       "    }\n",
       "\n",
       "    .dataframe tbody tr th {\n",
       "        vertical-align: top;\n",
       "    }\n",
       "\n",
       "    .dataframe thead th {\n",
       "        text-align: right;\n",
       "    }\n",
       "</style>\n",
       "<table border=\"1\" class=\"dataframe\">\n",
       "  <thead>\n",
       "    <tr style=\"text-align: right;\">\n",
       "      <th></th>\n",
       "      <th>PDB_ID</th>\n",
       "      <th>Sequence</th>\n",
       "      <th>2D</th>\n",
       "      <th>Len</th>\n",
       "      <th>Structure</th>\n",
       "      <th>RNAfold_ref</th>\n",
       "    </tr>\n",
       "  </thead>\n",
       "  <tbody>\n",
       "    <tr>\n",
       "      <th>0</th>\n",
       "      <td>1JVE</td>\n",
       "      <td>cctaattataacgaagttataattagg</td>\n",
       "      <td>(((((((((((((.)))))))))))))</td>\n",
       "      <td>27</td>\n",
       "      <td>Triplex-DNA</td>\n",
       "      <td>1.0</td>\n",
       "    </tr>\n",
       "    <tr>\n",
       "      <th>1</th>\n",
       "      <td>1NGU</td>\n",
       "      <td>ctctccttgtatttcttacaaaaagag</td>\n",
       "      <td>(((((((((((.....)))))))))))</td>\n",
       "      <td>27</td>\n",
       "      <td>Hairpin with pseudoknots</td>\n",
       "      <td>1.0</td>\n",
       "    </tr>\n",
       "    <tr>\n",
       "      <th>2</th>\n",
       "      <td>2OEY</td>\n",
       "      <td>ccatcgtctacctttggtaggatgg</td>\n",
       "      <td>(((((..(((((...))))))))))</td>\n",
       "      <td>25</td>\n",
       "      <td>Hairpin with loops</td>\n",
       "      <td>1.0</td>\n",
       "    </tr>\n",
       "    <tr>\n",
       "      <th>3</th>\n",
       "      <td>2VWJ</td>\n",
       "      <td>aauggagacacggcttttgccgtgtc</td>\n",
       "      <td>......((((((((....))))))))</td>\n",
       "      <td>26</td>\n",
       "      <td>Hairpin with dangling ends</td>\n",
       "      <td>1.0</td>\n",
       "    </tr>\n",
       "    <tr>\n",
       "      <th>4</th>\n",
       "      <td>3THW</td>\n",
       "      <td>cctctatctgaagccgatcgatgaagcatcgatcgcacagcttcag...</td>\n",
       "      <td>((((((((((((((((((((((((.))))))))))....)))))))...</td>\n",
       "      <td>53</td>\n",
       "      <td>Hairpin with loops</td>\n",
       "      <td>1.0</td>\n",
       "    </tr>\n",
       "  </tbody>\n",
       "</table>\n",
       "</div>"
      ],
      "text/plain": [
       "  PDB_ID                                           Sequence  \\\n",
       "0   1JVE                        cctaattataacgaagttataattagg   \n",
       "1   1NGU                        ctctccttgtatttcttacaaaaagag   \n",
       "2   2OEY                          ccatcgtctacctttggtaggatgg   \n",
       "3   2VWJ                         aauggagacacggcttttgccgtgtc   \n",
       "4   3THW  cctctatctgaagccgatcgatgaagcatcgatcgcacagcttcag...   \n",
       "\n",
       "                                                  2D  Len  \\\n",
       "0                        (((((((((((((.)))))))))))))   27   \n",
       "1                        (((((((((((.....)))))))))))   27   \n",
       "2                          (((((..(((((...))))))))))   25   \n",
       "3                         ......((((((((....))))))))   26   \n",
       "4  ((((((((((((((((((((((((.))))))))))....)))))))...   53   \n",
       "\n",
       "                    Structure  RNAfold_ref  \n",
       "0                 Triplex-DNA          1.0  \n",
       "1    Hairpin with pseudoknots          1.0  \n",
       "2          Hairpin with loops          1.0  \n",
       "3  Hairpin with dangling ends          1.0  \n",
       "4          Hairpin with loops          1.0  "
      ]
     },
     "execution_count": 2,
     "metadata": {},
     "output_type": "execute_result"
    }
   ],
   "source": [
    "aptabase = pd.read_csv('Aptamers_2D.csv')\n",
    "aptabase.head()"
   ]
  },
  {
   "cell_type": "code",
   "execution_count": 3,
   "metadata": {},
   "outputs": [
    {
     "data": {
      "text/plain": [
       "57"
      ]
     },
     "execution_count": 3,
     "metadata": {},
     "output_type": "execute_result"
    }
   ],
   "source": [
    "max(list(aptabase['Len']))"
   ]
  },
  {
   "cell_type": "markdown",
   "metadata": {},
   "source": [
    "For sequences <80 nt it is recommended to use NUPACk engine, although it has more computational cost and disallow refinement for pseudoknotted structures\n",
    "\n"
   ]
  },
  {
   "cell_type": "code",
   "execution_count": 4,
   "metadata": {},
   "outputs": [
    {
     "data": {
      "text/plain": [
       "19"
      ]
     },
     "execution_count": 4,
     "metadata": {},
     "output_type": "execute_result"
    }
   ],
   "source": [
    "fullref = ''.join(aptabase['2D'])\n",
    "fullref.count('{')"
   ]
  },
  {
   "cell_type": "markdown",
   "metadata": {},
   "source": [
    "if structure can contain '{' and '}' it is recommmended to use level 3 of prediction"
   ]
  },
  {
   "cell_type": "code",
   "execution_count": 5,
   "metadata": {},
   "outputs": [
    {
     "data": {
      "text/plain": [
       "'aaaauuuuvv'"
      ]
     },
     "execution_count": 5,
     "metadata": {},
     "output_type": "execute_result"
    }
   ],
   "source": [
    "'aaaattttvv'.replace('t', 'u')"
   ]
  },
  {
   "cell_type": "code",
   "execution_count": 17,
   "metadata": {},
   "outputs": [],
   "source": [
    "def ipknoter_v1(seq):\n",
    "\n",
    "    driver = webdriver.Chrome()\n",
    "\n",
    "\n",
    "    s = seq.replace('t', 'u')\n",
    "\n",
    "    # Open web-server\n",
    "    driver.get('http://ws.sato-lab.org/rtips/ipknot++/')  # Replace with your target URL\n",
    "    \n",
    "    # type sequence\n",
    "    input_seq = driver.find_element(By.NAME, \"seq\")\n",
    "    input_seq.send_keys(s)\n",
    "\n",
    "    #settings\n",
    "    # select_level = driver.find_element(By.NAME, 'level')\n",
    "    # select_level.selectByValue('3')\n",
    "\n",
    "    # select_engine = driver.find_element(By.NAME, 'model')\n",
    "    # select_engine.select_by_value('NUPACK')\n",
    "\n",
    "    select_level3 = driver.find_element(By.XPATH, '/html/body/div/form/ul/li[1]/select/option[3]')\n",
    "    select_level3.click()\n",
    "\n",
    "    select_nupack = driver.find_element(By.XPATH, '/html/body/div/form/ul/li[2]/select/option[6]')\n",
    "    select_nupack.click()\n",
    "\n",
    "    #click pred button\n",
    "    predbutton = driver.find_element(By.XPATH, \"/html/body/div/form/p[3]/input[1]\")\n",
    "    predbutton.click()\n",
    "\n",
    "    # Wait for the page to load \n",
    "    time.sleep(10)\n",
    "\n",
    "    \n",
    "    # Get the resulting HTML\n",
    "    result_html = driver.page_source\n",
    "    driver.quit()\n",
    "\n",
    "   \n",
    "    \n",
    "    #we need text from xpath /html/body/div/div[2]/pre[3]\n",
    "    # Создаём объект BeautifulSoup\n",
    "    soup = BeautifulSoup(result_html, 'html.parser')\n",
    "\n",
    "    # CSS-селектор, соответствующий вашему XPath\n",
    "    css_selector = 'body > div > div:nth-of-type(2) > pre:nth-of-type(3)'\n",
    "\n",
    "    # Находим элемент\n",
    "    element = soup.select_one(css_selector)\n",
    "    text = element.get_text()\n",
    "    return text.split()[1]"
   ]
  },
  {
   "cell_type": "code",
   "execution_count": 18,
   "metadata": {},
   "outputs": [
    {
     "data": {
      "text/plain": [
       "'.((.....)).'"
      ]
     },
     "execution_count": 18,
     "metadata": {},
     "output_type": "execute_result"
    }
   ],
   "source": [
    "ipknoter_v1('aaaagggtttt')"
   ]
  },
  {
   "cell_type": "code",
   "execution_count": 21,
   "metadata": {},
   "outputs": [
    {
     "name": "stdout",
     "output_type": "stream",
     "text": [
      "1 - 2 - 3 - 4 - 5 - 6 - 7 - 8 - 9 - 10 - 11 - 12 - 13 - 14 - 15 - 16 - 17 - 18 - 19 - 20 - 21 - 22 - 23 - 24 - 25 - 26 - 27 - 28 - 29 - 30 - 31 - 32 - 33 - 34 - 35 - 36 - 37 - 38 - 39 - 40 - 41 - 42 - 43 - 44 - 45 - 46 - 47 - 48 - 49 - 50 - 51 - 52 - 53 - 54 - 55 - 56 - 57 - 58 - 59 - 60 - 61 - 62 - 63 - 64 - 65 - 66 - 67 - 68 - 69 - "
     ]
    }
   ],
   "source": [
    "#ipknotv1 - level3, nupack model\n",
    "seqs = list(aptabase['Sequence'])\n",
    "ipknotv1_preds = []\n",
    "for seq in seqs:\n",
    "    ipknotv1_preds.append(ipknoter_v1(seq))\n",
    "    print(len(ipknotv1_preds), '-', end=' ')"
   ]
  },
  {
   "cell_type": "code",
   "execution_count": 23,
   "metadata": {},
   "outputs": [],
   "source": [
    "def accuracy_2D(pred, ref):\n",
    "\n",
    "    count = 0 \n",
    "    for k in range(len(pred)):\n",
    "\n",
    "        if pred[k] == ref[k]:\n",
    "            count += 1\n",
    "\n",
    "        elif (pred[k]=='+') and (ref[k] in ('(', ')', '[', ']', '{', '}')):\n",
    "            count += 1\n",
    "\n",
    "        # elif (pred[k] in ('[', '{')) and (ref[k] in ('[', '{')):\n",
    "        #     count +=1\n",
    "\n",
    "        # elif (pred[k] in (']', '}')) and (ref[k] in (']', '}')):\n",
    "        #     count +=1\n",
    "\n",
    "    return round(count/len(pred), 2)"
   ]
  },
  {
   "cell_type": "code",
   "execution_count": 24,
   "metadata": {},
   "outputs": [],
   "source": [
    "ipknotv1_accuracy_points = []\n",
    "ref2d = list(aptabase['2D'])\n",
    "\n",
    "for i in range(len(ref2d)):\n",
    "    ipknotv1_accuracy_points.append(accuracy_2D(ipknotv1_preds[i], ref2d[i]))"
   ]
  },
  {
   "cell_type": "code",
   "execution_count": 28,
   "metadata": {},
   "outputs": [
    {
     "name": "stdout",
     "output_type": "stream",
     "text": [
      "% of Accurate structures (accuracy >= 0.85) = 33.33333333333333\n",
      "Nucleotide Accuracy= 0.66\n"
     ]
    }
   ],
   "source": [
    "#% of accurate structures\n",
    "acc_counter = 0\n",
    "for ac in ipknotv1_accuracy_points:\n",
    "    if ac >= 0.85:\n",
    "        acc_counter +=1\n",
    "\n",
    "print('% of Accurate structures (accuracy >= 0.85) =', 100*(acc_counter/len(ipknotv1_accuracy_points)))\n",
    "\n",
    "#Full accuracy\n",
    "nt_accuracy = accuracy_2D(''.join(ipknotv1_preds), ''.join(ref2d))\n",
    "print('Nucleotide Accuracy=', nt_accuracy)"
   ]
  },
  {
   "cell_type": "code",
   "execution_count": 29,
   "metadata": {},
   "outputs": [
    {
     "data": {
      "text/html": [
       "<div>\n",
       "<style scoped>\n",
       "    .dataframe tbody tr th:only-of-type {\n",
       "        vertical-align: middle;\n",
       "    }\n",
       "\n",
       "    .dataframe tbody tr th {\n",
       "        vertical-align: top;\n",
       "    }\n",
       "\n",
       "    .dataframe thead th {\n",
       "        text-align: right;\n",
       "    }\n",
       "</style>\n",
       "<table border=\"1\" class=\"dataframe\">\n",
       "  <thead>\n",
       "    <tr style=\"text-align: right;\">\n",
       "      <th></th>\n",
       "      <th>PDB_ID</th>\n",
       "      <th>Sequence</th>\n",
       "      <th>2D</th>\n",
       "      <th>Len</th>\n",
       "      <th>Structure</th>\n",
       "      <th>RNAfold_ref</th>\n",
       "      <th>IPknotv1_2D</th>\n",
       "      <th>IPknotv1</th>\n",
       "    </tr>\n",
       "  </thead>\n",
       "  <tbody>\n",
       "    <tr>\n",
       "      <th>0</th>\n",
       "      <td>1JVE</td>\n",
       "      <td>cctaattataacgaagttataattagg</td>\n",
       "      <td>(((((((((((((.)))))))))))))</td>\n",
       "      <td>27</td>\n",
       "      <td>Triplex-DNA</td>\n",
       "      <td>1.00</td>\n",
       "      <td>((((((((((((...))))))))))))</td>\n",
       "      <td>0.93</td>\n",
       "    </tr>\n",
       "    <tr>\n",
       "      <th>1</th>\n",
       "      <td>1NGU</td>\n",
       "      <td>ctctccttgtatttcttacaaaaagag</td>\n",
       "      <td>(((((((((((.....)))))))))))</td>\n",
       "      <td>27</td>\n",
       "      <td>Hairpin with pseudoknots</td>\n",
       "      <td>1.00</td>\n",
       "      <td>((((...((((.....))))...))))</td>\n",
       "      <td>0.78</td>\n",
       "    </tr>\n",
       "    <tr>\n",
       "      <th>2</th>\n",
       "      <td>2OEY</td>\n",
       "      <td>ccatcgtctacctttggtaggatgg</td>\n",
       "      <td>(((((..(((((...))))))))))</td>\n",
       "      <td>25</td>\n",
       "      <td>Hairpin with loops</td>\n",
       "      <td>1.00</td>\n",
       "      <td>(((((..(((((...))))))))))</td>\n",
       "      <td>1.00</td>\n",
       "    </tr>\n",
       "    <tr>\n",
       "      <th>3</th>\n",
       "      <td>2VWJ</td>\n",
       "      <td>aauggagacacggcttttgccgtgtc</td>\n",
       "      <td>......((((((((....))))))))</td>\n",
       "      <td>26</td>\n",
       "      <td>Hairpin with dangling ends</td>\n",
       "      <td>1.00</td>\n",
       "      <td>......((((((((....))))))))</td>\n",
       "      <td>1.00</td>\n",
       "    </tr>\n",
       "    <tr>\n",
       "      <th>4</th>\n",
       "      <td>3THW</td>\n",
       "      <td>cctctatctgaagccgatcgatgaagcatcgatcgcacagcttcag...</td>\n",
       "      <td>((((((((((((((((((((((((.))))))))))....)))))))...</td>\n",
       "      <td>53</td>\n",
       "      <td>Hairpin with loops</td>\n",
       "      <td>1.00</td>\n",
       "      <td>(((((((((((((((((((((((...)))))))))....)))))))...</td>\n",
       "      <td>0.96</td>\n",
       "    </tr>\n",
       "    <tr>\n",
       "      <th>...</th>\n",
       "      <td>...</td>\n",
       "      <td>...</td>\n",
       "      <td>...</td>\n",
       "      <td>...</td>\n",
       "      <td>...</td>\n",
       "      <td>...</td>\n",
       "      <td>...</td>\n",
       "      <td>...</td>\n",
       "    </tr>\n",
       "    <tr>\n",
       "      <th>64</th>\n",
       "      <td>4U5M</td>\n",
       "      <td>tggtggtggtggttgtggtggtggtgtt</td>\n",
       "      <td>(([.)])([.)]..(.[).](.[).]..</td>\n",
       "      <td>28</td>\n",
       "      <td>G-quadruplex</td>\n",
       "      <td>0.71</td>\n",
       "      <td>............................</td>\n",
       "      <td>0.36</td>\n",
       "    </tr>\n",
       "    <tr>\n",
       "      <th>65</th>\n",
       "      <td>2N3M</td>\n",
       "      <td>tggtggtggttgttgtggtggtggtggt</td>\n",
       "      <td>(([.)].[{.)]..}.([.)].([.)].</td>\n",
       "      <td>28</td>\n",
       "      <td>G-quadruplex</td>\n",
       "      <td>0.71</td>\n",
       "      <td>............................</td>\n",
       "      <td>0.36</td>\n",
       "    </tr>\n",
       "    <tr>\n",
       "      <th>66</th>\n",
       "      <td>201D</td>\n",
       "      <td>ggggttttggggttttggggttttgggg</td>\n",
       "      <td>(((((.)[))))....((((...]))))</td>\n",
       "      <td>28</td>\n",
       "      <td>G-quadruplex</td>\n",
       "      <td>1.00</td>\n",
       "      <td>............................</td>\n",
       "      <td>0.29</td>\n",
       "    </tr>\n",
       "    <tr>\n",
       "      <th>67</th>\n",
       "      <td>5J6U</td>\n",
       "      <td>ggggtttggggttttggggaagggg</td>\n",
       "      <td>((((.[.))))....(((]...)))</td>\n",
       "      <td>25</td>\n",
       "      <td>G-quadruplex</td>\n",
       "      <td>1.00</td>\n",
       "      <td>...........((.....)).....</td>\n",
       "      <td>0.24</td>\n",
       "    </tr>\n",
       "    <tr>\n",
       "      <th>68</th>\n",
       "      <td>230D</td>\n",
       "      <td>ggggtutuggggttttgggguuttgggg</td>\n",
       "      <td>((((...)[)))(.).(((.....])))</td>\n",
       "      <td>28</td>\n",
       "      <td>G-quadruplex</td>\n",
       "      <td>1.00</td>\n",
       "      <td>............................</td>\n",
       "      <td>0.36</td>\n",
       "    </tr>\n",
       "  </tbody>\n",
       "</table>\n",
       "<p>69 rows × 8 columns</p>\n",
       "</div>"
      ],
      "text/plain": [
       "   PDB_ID                                           Sequence  \\\n",
       "0    1JVE                        cctaattataacgaagttataattagg   \n",
       "1    1NGU                        ctctccttgtatttcttacaaaaagag   \n",
       "2    2OEY                          ccatcgtctacctttggtaggatgg   \n",
       "3    2VWJ                         aauggagacacggcttttgccgtgtc   \n",
       "4    3THW  cctctatctgaagccgatcgatgaagcatcgatcgcacagcttcag...   \n",
       "..    ...                                                ...   \n",
       "64   4U5M                       tggtggtggtggttgtggtggtggtgtt   \n",
       "65   2N3M                       tggtggtggttgttgtggtggtggtggt   \n",
       "66   201D                       ggggttttggggttttggggttttgggg   \n",
       "67   5J6U                          ggggtttggggttttggggaagggg   \n",
       "68   230D                       ggggtutuggggttttgggguuttgggg   \n",
       "\n",
       "                                                   2D  Len  \\\n",
       "0                         (((((((((((((.)))))))))))))   27   \n",
       "1                         (((((((((((.....)))))))))))   27   \n",
       "2                           (((((..(((((...))))))))))   25   \n",
       "3                          ......((((((((....))))))))   26   \n",
       "4   ((((((((((((((((((((((((.))))))))))....)))))))...   53   \n",
       "..                                                ...  ...   \n",
       "64                       (([.)])([.)]..(.[).](.[).]..   28   \n",
       "65                       (([.)].[{.)]..}.([.)].([.)].   28   \n",
       "66                       (((((.)[))))....((((...]))))   28   \n",
       "67                          ((((.[.))))....(((]...)))   25   \n",
       "68                       ((((...)[)))(.).(((.....])))   28   \n",
       "\n",
       "                     Structure  RNAfold_ref  \\\n",
       "0                  Triplex-DNA         1.00   \n",
       "1     Hairpin with pseudoknots         1.00   \n",
       "2           Hairpin with loops         1.00   \n",
       "3   Hairpin with dangling ends         1.00   \n",
       "4           Hairpin with loops         1.00   \n",
       "..                         ...          ...   \n",
       "64                G-quadruplex         0.71   \n",
       "65                G-quadruplex         0.71   \n",
       "66                G-quadruplex         1.00   \n",
       "67                G-quadruplex         1.00   \n",
       "68                G-quadruplex         1.00   \n",
       "\n",
       "                                          IPknotv1_2D  IPknotv1  \n",
       "0                         ((((((((((((...))))))))))))      0.93  \n",
       "1                         ((((...((((.....))))...))))      0.78  \n",
       "2                           (((((..(((((...))))))))))      1.00  \n",
       "3                          ......((((((((....))))))))      1.00  \n",
       "4   (((((((((((((((((((((((...)))))))))....)))))))...      0.96  \n",
       "..                                                ...       ...  \n",
       "64                       ............................      0.36  \n",
       "65                       ............................      0.36  \n",
       "66                       ............................      0.29  \n",
       "67                          ...........((.....)).....      0.24  \n",
       "68                       ............................      0.36  \n",
       "\n",
       "[69 rows x 8 columns]"
      ]
     },
     "execution_count": 29,
     "metadata": {},
     "output_type": "execute_result"
    }
   ],
   "source": [
    "aptabase['IPknotv1_2D'] = pd.Series(ipknotv1_preds)\n",
    "aptabase['IPknotv1'] = pd.Series(ipknotv1_accuracy_points)\n",
    "aptabase"
   ]
  },
  {
   "cell_type": "code",
   "execution_count": 30,
   "metadata": {},
   "outputs": [],
   "source": [
    "def TN(pred, ref):\n",
    "\n",
    "    counter = 0\n",
    "    for i in range(len(ref)):\n",
    "        if (pred[i] == '.') and (ref[i]=='.'):\n",
    "            counter +=1\n",
    "\n",
    "    return counter\n",
    "\n",
    "def FN(pred, ref):\n",
    "\n",
    "    counter = 0\n",
    "    for i in range(len(ref)):\n",
    "        if (pred[i] == '.') and (ref[i]!='.'):\n",
    "            counter +=1\n",
    "\n",
    "    return counter\n",
    "\n",
    "\n",
    "   \n",
    "def find_basepairs(s):\n",
    "    stack = []\n",
    "    #result = {}\n",
    "    result = []\n",
    "\n",
    "    for index, char in enumerate(s):\n",
    "        if char == '(':\n",
    "            # Запоминаем индекс открывающей скобки\n",
    "            stack.append(index)\n",
    "        elif char == ')':\n",
    "            # Если нашли закрывающую скобку, сопоставляем с последней открывающей\n",
    "            if stack:\n",
    "                open_index = stack.pop()\n",
    "                #result[open_index] = index\n",
    "                result.append((open_index, index))\n",
    "\n",
    "    return result\n",
    "\n",
    "def find_knotpairs(s):\n",
    "    stack = []\n",
    "    #result = {}\n",
    "    result = []\n",
    "\n",
    "    for index, char in enumerate(s):\n",
    "        if char == '[':\n",
    "            # Запоминаем индекс открывающей скобки\n",
    "            stack.append(index)\n",
    "        elif char == ']':\n",
    "            # Если нашли закрывающую скобку, сопоставляем с последней открывающей\n",
    "            if stack:\n",
    "                open_index = stack.pop()\n",
    "                #result[open_index] = index\n",
    "                result.append((open_index, index))\n",
    "\n",
    "    return result\n",
    "\n",
    "def find_otherpairs(s):\n",
    "    stack = []\n",
    "    #result = {}\n",
    "    result = []\n",
    "\n",
    "    for index, char in enumerate(s):\n",
    "        if char == '{':\n",
    "            # Запоминаем индекс открывающей скобки\n",
    "            stack.append(index)\n",
    "        elif char == '}':\n",
    "            # Если нашли закрывающую скобку, сопоставляем с последней открывающей\n",
    "            if stack:\n",
    "                open_index = stack.pop()\n",
    "                #result[open_index] = index\n",
    "                result.append((open_index, index))\n",
    "\n",
    "    return result\n",
    "\n",
    "def TP(pred,ref):\n",
    "\n",
    "    counter=0\n",
    "\n",
    "    pred_basepairs = find_basepairs(pred)\n",
    "    pred_knotpairs = find_knotpairs(pred)\n",
    "    pred_otherpairs = find_otherpairs(pred)\n",
    "\n",
    "    ref_basepairs = find_basepairs(ref)\n",
    "    ref_knotpairs = find_knotpairs(ref)\n",
    "    ref_otherpairs = find_otherpairs(ref)\n",
    "\n",
    "    for b in pred_basepairs:\n",
    "        if b in ref_basepairs:\n",
    "            counter += 2\n",
    "\n",
    "    for k in pred_knotpairs:\n",
    "        if k in ref_knotpairs:\n",
    "            counter += 2\n",
    "\n",
    "    for o in pred_otherpairs:\n",
    "        if k in ref_otherpairs:\n",
    "            counter += 2\n",
    "\n",
    "    return counter\n",
    "\n",
    "    \n",
    "\n"
   ]
  },
  {
   "cell_type": "code",
   "execution_count": 31,
   "metadata": {},
   "outputs": [
    {
     "name": "stdout",
     "output_type": "stream",
     "text": [
      "Precision = 0.76\n",
      "Recall = 0.6\n",
      "F1-score = 0.67\n"
     ]
    }
   ],
   "source": [
    "tp = TP(''.join(ipknotv1_preds), ''.join(ref2d))\n",
    "fn = FN(''.join(ipknotv1_preds), ''.join(ref2d))\n",
    "tn = TN(''.join(ipknotv1_preds), ''.join(ref2d))\n",
    "fp = len(''.join(ipknotv1_preds)) - (tp+fn+tn)\n",
    "\n",
    "Precision = tp/(tp+fp)\n",
    "Recall = tp/(tp+fn)\n",
    "F1 = 2*Precision*Recall/(Precision+Recall)\n",
    "\n",
    "print('Precision =', round(Precision, 2))\n",
    "print('Recall =', round(Recall, 2))\n",
    "print('F1-score =', round(F1, 2))"
   ]
  },
  {
   "cell_type": "code",
   "execution_count": 32,
   "metadata": {},
   "outputs": [
    {
     "data": {
      "text/plain": [
       "{'[', ']', '{', '}'}"
      ]
     },
     "execution_count": 32,
     "metadata": {},
     "output_type": "execute_result"
    }
   ],
   "source": [
    "set('[]{}')"
   ]
  },
  {
   "cell_type": "code",
   "execution_count": 42,
   "metadata": {},
   "outputs": [
    {
     "data": {
      "text/plain": [
       "0.5"
      ]
     },
     "execution_count": 42,
     "metadata": {},
     "output_type": "execute_result"
    }
   ],
   "source": [
    "def pseudoknots_accuracy(pred, ref):\n",
    "\n",
    "    count = 0\n",
    "    pseudo = ('[', ']', '{','}')\n",
    "    pseudo_n = 0\n",
    "    \n",
    "    for k in range(len(ref)):\n",
    "        if (ref[k] in pseudo):\n",
    "            pseudo_n += 1\n",
    "            if ref[k] == pred[k]:\n",
    "                count += 1\n",
    "\n",
    "    if pseudo_n != 0:\n",
    "        return round(count/pseudo_n, 2)\n",
    "    \n",
    "    else:\n",
    "        return -1\n",
    "\n",
    "pseudoknots_accuracy('((((.[].))))', '(((([[]])))))')\n"
   ]
  },
  {
   "cell_type": "code",
   "execution_count": 40,
   "metadata": {},
   "outputs": [
    {
     "name": "stdout",
     "output_type": "stream",
     "text": [
      "Pseudoknots accuracy = 0.0\n"
     ]
    }
   ],
   "source": [
    "print('Pseudoknots accuracy =', pseudoknots_accuracy(''.join(ipknotv1_preds), ''.join(ref2d)))"
   ]
  },
  {
   "cell_type": "code",
   "execution_count": 46,
   "metadata": {},
   "outputs": [
    {
     "name": "stdout",
     "output_type": "stream",
     "text": [
      "((((......((..((([[....(((....)))......)))]]))......))))..\n",
      "(((((()([(((...))))..{)))))]}(((((()([(((...))))..{)))))]}\n",
      "----------------\n",
      "((((((..((..[[.))..]]...))))))\n",
      "(((((((([[).((]....))].)))))))\n",
      "----------------\n",
      ".(((.....))).(((((.....)))))....\n",
      "((((....([[.)(((((]](.))))))))))\n",
      "----------------\n",
      "(((....)))(((((((((((((....)))))))))))))\n",
      "(((((((((([[[[[[[[[[))))))))))]]]]]]]]]]\n",
      "----------------\n",
      "........(((((.....))))).......\n",
      "(([..))((((((((.))))))))((.]))\n",
      "----------------\n",
      "((((((.................)))))).\n",
      "(((((((((..)).[)](..)..)))))).\n",
      "----------------\n",
      ".(((((.....)))))................\n",
      "((((((((.))))))))([)(].[)(...].)\n",
      "----------------\n",
      "...(((((((((.........)))))))))....\n",
      "(([{.)]}.[.)]([(((((((...))))))))]\n",
      "----------------\n",
      ".........(((((.....)))))........\n",
      "()([{.)]}.(((((...))))).([{.)]}.\n",
      "----------------\n",
      "((((......))))..(((.....)))\n",
      "(((([(](.[)...).(.])..).)))\n",
      "----------------\n",
      "......((...............)).\n",
      ".[{([{...)]}.(.(((.]})))).\n",
      "----------------\n",
      "..((...((....))...))......\n",
      "...[([)(.](](.)[)(...].)).\n",
      "----------------\n",
      ".....((....)).............\n",
      ".(([{.)]}........)([{.)]}.\n",
      "----------------\n",
      "..((...((....))...))......\n",
      "...(((...)))...([{...)]}..\n",
      "----------------\n",
      "..((...((....))...))......\n",
      "((.(((.[.))))).([{...)]}].\n",
      "----------------\n",
      ".........................\n",
      "..(([)()][)...(][...).]..\n",
      "----------------\n",
      ".........................\n",
      "..(((.())))...([{...)]}..\n",
      "----------------\n",
      ".......((..........))......\n",
      "..{(((..[)))...(((..})))]..\n",
      "----------------\n",
      "......(((......))).......\n",
      "...(([)]..)..([{())]}....\n",
      "----------------\n",
      "......((...............)).\n",
      "..[([{...)]}.(.(((.].)))).\n",
      "----------------\n",
      "...............[[((((.....]]))))..\n",
      "..(([.).{)(](((..)..))[.(}...))]..\n",
      "----------------\n",
      "...............[[((((.....]]))))..\n",
      ".{(([.).{)(](((....)))[.(}}..))]..\n",
      "----------------\n",
      "............................\n",
      "(([.)])([.)]..(.[).](.[).]..\n",
      "----------------\n",
      "............................\n",
      "(([.)])([.)]..(.[).](.[).]..\n",
      "----------------\n",
      "............................\n",
      "(([.)].[{.)]..}.([.)].([.)].\n",
      "----------------\n",
      "............................\n",
      "(((((.)[))))....((((...]))))\n",
      "----------------\n",
      "...........((.....)).....\n",
      "((((.[.))))....(((]...)))\n",
      "----------------\n",
      "............................\n",
      "((((...)[)))(.).(((.....])))\n",
      "----------------\n"
     ]
    }
   ],
   "source": [
    "for i in range(len(ipknotv1_preds)):\n",
    "    p = pseudoknots_accuracy(ipknotv1_preds[i], ref2d[i])\n",
    "    if p != -1:\n",
    "        print(ipknotv1_preds[i], ref2d[i], sep='\\n')\n",
    "        print('----------------')"
   ]
  },
  {
   "cell_type": "markdown",
   "metadata": {},
   "source": [
    "In all cases IPknot v1 (level=3, model=NUPACK) failed to predict pseudokots, although prediction of classical secondary structure elements were compatible with RNAfold results. \n",
    "\n",
    "There are many of non-canonical base pairs in pseudoknots, thats why I consider that choosing another settings will not improve IPknot performance\n"
   ]
  },
  {
   "cell_type": "code",
   "execution_count": 50,
   "metadata": {},
   "outputs": [],
   "source": [
    "aptabase.to_csv('IPknot_benchmarking.csv')"
   ]
  }
 ],
 "metadata": {
  "kernelspec": {
   "display_name": "aptabench_1",
   "language": "python",
   "name": "python3"
  },
  "language_info": {
   "codemirror_mode": {
    "name": "ipython",
    "version": 3
   },
   "file_extension": ".py",
   "mimetype": "text/x-python",
   "name": "python",
   "nbconvert_exporter": "python",
   "pygments_lexer": "ipython3",
   "version": "3.12.5"
  }
 },
 "nbformat": 4,
 "nbformat_minor": 2
}
